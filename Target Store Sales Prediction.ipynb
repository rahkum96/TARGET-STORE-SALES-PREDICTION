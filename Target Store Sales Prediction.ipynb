{
 "cells": [
  {
   "cell_type": "markdown",
   "id": "d41854be",
   "metadata": {},
   "source": [
    "# Target Store Sales Prediction\n",
    "#### Content:\n",
    "Here provided with historical sales data for 45 stores located in different region search store contains a number of departments. The company also runs several promotional markdown events throughout the year. These markdowns precede prominent holidays, the four largest of which are the Super Bowl, Labor Day, Thanksgiving, and Christmas. The weeks including these holidays are weighted five times higher in the evaluation than non-holiday weeks.\n",
    "\n",
    "#### Problem description: \n",
    "One challenge of modeling retail data is the need to make decisions based on limited history. Holidays and select major events come once a year, and so does the chance to see how strategic decisions impacted the bottom line. In addition, markdowns are known to affect sales the challenge is to predict which departments will be affected and to what extent.\n"
   ]
  },
  {
   "cell_type": "code",
   "execution_count": 1,
   "id": "214e067b",
   "metadata": {},
   "outputs": [],
   "source": [
    "# Importing necessary libraires\n",
    "import pandas as pd\n",
    "import numpy as np\n",
    "import seaborn as sns\n",
    "import matplotlib.pyplot as plt\n",
    "%matplotlib inline"
   ]
  },
  {
   "cell_type": "markdown",
   "id": "e4018fe3",
   "metadata": {},
   "source": [
    "### Importing all the dataset"
   ]
  },
  {
   "cell_type": "code",
   "execution_count": 2,
   "id": "7c9f7df2",
   "metadata": {},
   "outputs": [],
   "source": [
    "df1= pd.read_csv('Business_Data.csv') #Business_Data\n",
    "df2= pd.read_csv('Sales_History.csv') #Sales_History\n",
    "df3= pd.read_csv('Store_Details.csv') #Store_Details"
   ]
  },
  {
   "cell_type": "markdown",
   "id": "85b4cbbc",
   "metadata": {},
   "source": [
    "### Approach:\n",
    "- **Understand the data variables properly**\n",
    "- **Cleaning the data:** Cleaning the data, that is, fill the missing values (if any), treat the outliers (or odd values), etc. Ensureing each variable’s data is as per the nature of the variable (e.g. Date field should contain only date values – can extract year, month and day of the week, and numeric column should be formatted as numeric, etc.)\n",
    "- **Conducting EDA (Exploratory Data Analysis) on the cleaned Data**\n",
    "- **Uni-variate and Bi-variate Analysis:** Checking the distribution of independent variables and also compare them with the dependent variable.\n",
    "- **Feature Engineering**\n",
    "- **Hypothesis Testing**\n",
    "- **Identify the most important variables (or data parameters) that affect the final decision:** Identify the impact of each variable on the final result graphically (correlation / scatter plots, regression plots, etc.). Keeping those variables that affect the final outcome\n",
    "- **Develop and Validate Samples**\n",
    "- **Model Building**\n",
    "- **Improving model accuracy:** We know that machine learning algorithms are driven by parameters. These parameters majorly influence the outcome of learning process. So, find the optimum value for each parameter to improve the accuracy of the model and repeat this process with a number of well performing models\n"
   ]
  },
  {
   "cell_type": "markdown",
   "id": "53b58075",
   "metadata": {},
   "source": [
    "### Data Preprocessing"
   ]
  },
  {
   "cell_type": "markdown",
   "id": "5289c171",
   "metadata": {},
   "source": [
    "1. Sales history - Historical sales data of each store from 30th April 2017 to 25th October 2019 having 421570 data points and 5 columns.\n",
    "2. Store details - Anonymized information about 45 stores indicating store type, Address, Location and\n",
    "size of store.\n",
    "3. Business data - Contains additional data related to the store, department, and regional activity for the\n",
    "given dates.\n",
    "\n",
    "Lets look at the head of all three dataset"
   ]
  },
  {
   "cell_type": "code",
   "execution_count": 3,
   "id": "8441f239",
   "metadata": {},
   "outputs": [
    {
     "data": {
      "text/html": [
       "<div>\n",
       "<style scoped>\n",
       "    .dataframe tbody tr th:only-of-type {\n",
       "        vertical-align: middle;\n",
       "    }\n",
       "\n",
       "    .dataframe tbody tr th {\n",
       "        vertical-align: top;\n",
       "    }\n",
       "\n",
       "    .dataframe thead th {\n",
       "        text-align: right;\n",
       "    }\n",
       "</style>\n",
       "<table border=\"1\" class=\"dataframe\">\n",
       "  <thead>\n",
       "    <tr style=\"text-align: right;\">\n",
       "      <th></th>\n",
       "      <th>Store</th>\n",
       "      <th>Date</th>\n",
       "      <th>Temperature</th>\n",
       "      <th>Fuel_Price</th>\n",
       "      <th>MarkDown1</th>\n",
       "      <th>MarkDown2</th>\n",
       "      <th>MarkDown3</th>\n",
       "      <th>MarkDown4</th>\n",
       "      <th>MarkDown5</th>\n",
       "      <th>CPI</th>\n",
       "      <th>Unemployment_Rate</th>\n",
       "      <th>Holiday</th>\n",
       "    </tr>\n",
       "  </thead>\n",
       "  <tbody>\n",
       "    <tr>\n",
       "      <th>0</th>\n",
       "      <td>1</td>\n",
       "      <td>4/30/2017</td>\n",
       "      <td>42.31</td>\n",
       "      <td>2.572</td>\n",
       "      <td>NaN</td>\n",
       "      <td>NaN</td>\n",
       "      <td>NaN</td>\n",
       "      <td>NaN</td>\n",
       "      <td>NaN</td>\n",
       "      <td>211.096358</td>\n",
       "      <td>8.106</td>\n",
       "      <td>False</td>\n",
       "    </tr>\n",
       "    <tr>\n",
       "      <th>1</th>\n",
       "      <td>1</td>\n",
       "      <td>11/30/2017</td>\n",
       "      <td>38.51</td>\n",
       "      <td>2.548</td>\n",
       "      <td>NaN</td>\n",
       "      <td>NaN</td>\n",
       "      <td>NaN</td>\n",
       "      <td>NaN</td>\n",
       "      <td>NaN</td>\n",
       "      <td>211.242170</td>\n",
       "      <td>8.106</td>\n",
       "      <td>True</td>\n",
       "    </tr>\n",
       "    <tr>\n",
       "      <th>2</th>\n",
       "      <td>1</td>\n",
       "      <td>2/17/2017</td>\n",
       "      <td>39.93</td>\n",
       "      <td>2.514</td>\n",
       "      <td>NaN</td>\n",
       "      <td>NaN</td>\n",
       "      <td>NaN</td>\n",
       "      <td>NaN</td>\n",
       "      <td>NaN</td>\n",
       "      <td>211.289143</td>\n",
       "      <td>8.106</td>\n",
       "      <td>False</td>\n",
       "    </tr>\n",
       "    <tr>\n",
       "      <th>3</th>\n",
       "      <td>1</td>\n",
       "      <td>2/24/2017</td>\n",
       "      <td>46.63</td>\n",
       "      <td>2.561</td>\n",
       "      <td>NaN</td>\n",
       "      <td>NaN</td>\n",
       "      <td>NaN</td>\n",
       "      <td>NaN</td>\n",
       "      <td>NaN</td>\n",
       "      <td>211.319643</td>\n",
       "      <td>8.106</td>\n",
       "      <td>False</td>\n",
       "    </tr>\n",
       "    <tr>\n",
       "      <th>4</th>\n",
       "      <td>1</td>\n",
       "      <td>5/1/2017</td>\n",
       "      <td>46.50</td>\n",
       "      <td>2.625</td>\n",
       "      <td>NaN</td>\n",
       "      <td>NaN</td>\n",
       "      <td>NaN</td>\n",
       "      <td>NaN</td>\n",
       "      <td>NaN</td>\n",
       "      <td>211.350143</td>\n",
       "      <td>8.106</td>\n",
       "      <td>False</td>\n",
       "    </tr>\n",
       "  </tbody>\n",
       "</table>\n",
       "</div>"
      ],
      "text/plain": [
       "   Store        Date  Temperature  Fuel_Price  MarkDown1  MarkDown2  \\\n",
       "0      1   4/30/2017        42.31       2.572        NaN        NaN   \n",
       "1      1  11/30/2017        38.51       2.548        NaN        NaN   \n",
       "2      1   2/17/2017        39.93       2.514        NaN        NaN   \n",
       "3      1   2/24/2017        46.63       2.561        NaN        NaN   \n",
       "4      1    5/1/2017        46.50       2.625        NaN        NaN   \n",
       "\n",
       "   MarkDown3  MarkDown4  MarkDown5         CPI  Unemployment_Rate  Holiday  \n",
       "0        NaN        NaN        NaN  211.096358              8.106    False  \n",
       "1        NaN        NaN        NaN  211.242170              8.106     True  \n",
       "2        NaN        NaN        NaN  211.289143              8.106    False  \n",
       "3        NaN        NaN        NaN  211.319643              8.106    False  \n",
       "4        NaN        NaN        NaN  211.350143              8.106    False  "
      ]
     },
     "execution_count": 3,
     "metadata": {},
     "output_type": "execute_result"
    }
   ],
   "source": [
    "df1.head()"
   ]
  },
  {
   "cell_type": "code",
   "execution_count": 4,
   "id": "9dc7f1ee",
   "metadata": {},
   "outputs": [
    {
     "data": {
      "text/html": [
       "<div>\n",
       "<style scoped>\n",
       "    .dataframe tbody tr th:only-of-type {\n",
       "        vertical-align: middle;\n",
       "    }\n",
       "\n",
       "    .dataframe tbody tr th {\n",
       "        vertical-align: top;\n",
       "    }\n",
       "\n",
       "    .dataframe thead th {\n",
       "        text-align: right;\n",
       "    }\n",
       "</style>\n",
       "<table border=\"1\" class=\"dataframe\">\n",
       "  <thead>\n",
       "    <tr style=\"text-align: right;\">\n",
       "      <th></th>\n",
       "      <th>Store</th>\n",
       "      <th>Department</th>\n",
       "      <th>Date</th>\n",
       "      <th>Total_Sales</th>\n",
       "      <th>Holiday</th>\n",
       "    </tr>\n",
       "  </thead>\n",
       "  <tbody>\n",
       "    <tr>\n",
       "      <th>0</th>\n",
       "      <td>1</td>\n",
       "      <td>1</td>\n",
       "      <td>4/30/2017</td>\n",
       "      <td>24924.50</td>\n",
       "      <td>False</td>\n",
       "    </tr>\n",
       "    <tr>\n",
       "      <th>1</th>\n",
       "      <td>1</td>\n",
       "      <td>1</td>\n",
       "      <td>11/30/2017</td>\n",
       "      <td>46039.49</td>\n",
       "      <td>True</td>\n",
       "    </tr>\n",
       "    <tr>\n",
       "      <th>2</th>\n",
       "      <td>1</td>\n",
       "      <td>1</td>\n",
       "      <td>2/17/2017</td>\n",
       "      <td>41595.55</td>\n",
       "      <td>False</td>\n",
       "    </tr>\n",
       "    <tr>\n",
       "      <th>3</th>\n",
       "      <td>1</td>\n",
       "      <td>1</td>\n",
       "      <td>2/24/2017</td>\n",
       "      <td>19403.54</td>\n",
       "      <td>False</td>\n",
       "    </tr>\n",
       "    <tr>\n",
       "      <th>4</th>\n",
       "      <td>1</td>\n",
       "      <td>1</td>\n",
       "      <td>05-01-2017</td>\n",
       "      <td>21827.90</td>\n",
       "      <td>False</td>\n",
       "    </tr>\n",
       "  </tbody>\n",
       "</table>\n",
       "</div>"
      ],
      "text/plain": [
       "   Store  Department        Date  Total_Sales  Holiday\n",
       "0      1           1   4/30/2017     24924.50    False\n",
       "1      1           1  11/30/2017     46039.49     True\n",
       "2      1           1   2/17/2017     41595.55    False\n",
       "3      1           1   2/24/2017     19403.54    False\n",
       "4      1           1  05-01-2017     21827.90    False"
      ]
     },
     "execution_count": 4,
     "metadata": {},
     "output_type": "execute_result"
    }
   ],
   "source": [
    "df2.head()"
   ]
  },
  {
   "cell_type": "code",
   "execution_count": 5,
   "id": "682eeb2c",
   "metadata": {},
   "outputs": [
    {
     "data": {
      "text/html": [
       "<div>\n",
       "<style scoped>\n",
       "    .dataframe tbody tr th:only-of-type {\n",
       "        vertical-align: middle;\n",
       "    }\n",
       "\n",
       "    .dataframe tbody tr th {\n",
       "        vertical-align: top;\n",
       "    }\n",
       "\n",
       "    .dataframe thead th {\n",
       "        text-align: right;\n",
       "    }\n",
       "</style>\n",
       "<table border=\"1\" class=\"dataframe\">\n",
       "  <thead>\n",
       "    <tr style=\"text-align: right;\">\n",
       "      <th></th>\n",
       "      <th>Store</th>\n",
       "      <th>Type</th>\n",
       "      <th>Address</th>\n",
       "      <th>Area_Code</th>\n",
       "      <th>Location</th>\n",
       "      <th>Size</th>\n",
       "    </tr>\n",
       "  </thead>\n",
       "  <tbody>\n",
       "    <tr>\n",
       "      <th>0</th>\n",
       "      <td>1</td>\n",
       "      <td>E-Commerce Fulfillment</td>\n",
       "      <td>1893 W Malvern Ave, Fullerton, California</td>\n",
       "      <td>92835</td>\n",
       "      <td>Applegate Ranch Shopping Cente</td>\n",
       "      <td>151315</td>\n",
       "    </tr>\n",
       "    <tr>\n",
       "      <th>1</th>\n",
       "      <td>2</td>\n",
       "      <td>E-Commerce Fulfillment</td>\n",
       "      <td>1000 Commerce Ave, Atwater, California</td>\n",
       "      <td>95301</td>\n",
       "      <td>Bayfair Cente</td>\n",
       "      <td>202307</td>\n",
       "    </tr>\n",
       "    <tr>\n",
       "      <th>2</th>\n",
       "      <td>3</td>\n",
       "      <td>Food</td>\n",
       "      <td>15555 East 14th Street, San Leandro, California</td>\n",
       "      <td>94578</td>\n",
       "      <td>Capitola Mal</td>\n",
       "      <td>37392</td>\n",
       "    </tr>\n",
       "    <tr>\n",
       "      <th>3</th>\n",
       "      <td>4</td>\n",
       "      <td>E-Commerce Fulfillment</td>\n",
       "      <td>1855 41st Avenue, Capitola, California</td>\n",
       "      <td>95010</td>\n",
       "      <td>Chino Spectrum Marketplace�&amp; Towne Cente</td>\n",
       "      <td>205863</td>\n",
       "    </tr>\n",
       "    <tr>\n",
       "      <th>4</th>\n",
       "      <td>5</td>\n",
       "      <td>Food</td>\n",
       "      <td>3800-4046 Grand Ave.&amp; 3801-4097 Grand Ave., Ch...</td>\n",
       "      <td>91710</td>\n",
       "      <td>Eagle Rock Plaz</td>\n",
       "      <td>34875</td>\n",
       "    </tr>\n",
       "  </tbody>\n",
       "</table>\n",
       "</div>"
      ],
      "text/plain": [
       "   Store                    Type  \\\n",
       "0      1  E-Commerce Fulfillment   \n",
       "1      2  E-Commerce Fulfillment   \n",
       "2      3                    Food   \n",
       "3      4  E-Commerce Fulfillment   \n",
       "4      5                    Food   \n",
       "\n",
       "                                             Address  Area_Code  \\\n",
       "0          1893 W Malvern Ave, Fullerton, California      92835   \n",
       "1             1000 Commerce Ave, Atwater, California      95301   \n",
       "2    15555 East 14th Street, San Leandro, California      94578   \n",
       "3             1855 41st Avenue, Capitola, California      95010   \n",
       "4  3800-4046 Grand Ave.& 3801-4097 Grand Ave., Ch...      91710   \n",
       "\n",
       "                                   Location    Size  \n",
       "0            Applegate Ranch Shopping Cente  151315  \n",
       "1                             Bayfair Cente  202307  \n",
       "2                              Capitola Mal   37392  \n",
       "3  Chino Spectrum Marketplace�& Towne Cente  205863  \n",
       "4                           Eagle Rock Plaz   34875  "
      ]
     },
     "execution_count": 5,
     "metadata": {},
     "output_type": "execute_result"
    }
   ],
   "source": [
    "df3.head()"
   ]
  },
  {
   "cell_type": "code",
   "execution_count": 6,
   "id": "af861118",
   "metadata": {},
   "outputs": [
    {
     "name": "stdout",
     "output_type": "stream",
     "text": [
      "(8190, 12)\n",
      "(421570, 5)\n",
      "(45, 6)\n"
     ]
    }
   ],
   "source": [
    "# Lets look at the shape of all three dataset\n",
    "print(df1.shape) #business data\n",
    "print(df2.shape) #sales history\n",
    "print(df3.shape) #Store details"
   ]
  },
  {
   "cell_type": "markdown",
   "id": "6200be18",
   "metadata": {},
   "source": [
    "It is very important to merges these data on same column ['Store', 'Date']. We are going to mergred first df1 which is business data and df2 which is sales history data.\n",
    "\n",
    "Before going to merged these data, first we will group all the sales hstory data on date, because there are lots of transaction happend on same date."
   ]
  },
  {
   "cell_type": "code",
   "execution_count": 7,
   "id": "6b047b79",
   "metadata": {},
   "outputs": [
    {
     "data": {
      "text/html": [
       "<div>\n",
       "<style scoped>\n",
       "    .dataframe tbody tr th:only-of-type {\n",
       "        vertical-align: middle;\n",
       "    }\n",
       "\n",
       "    .dataframe tbody tr th {\n",
       "        vertical-align: top;\n",
       "    }\n",
       "\n",
       "    .dataframe thead th {\n",
       "        text-align: right;\n",
       "    }\n",
       "</style>\n",
       "<table border=\"1\" class=\"dataframe\">\n",
       "  <thead>\n",
       "    <tr style=\"text-align: right;\">\n",
       "      <th></th>\n",
       "      <th>Store</th>\n",
       "      <th>Department</th>\n",
       "      <th>Date</th>\n",
       "      <th>Total_Sales</th>\n",
       "      <th>Holiday</th>\n",
       "    </tr>\n",
       "  </thead>\n",
       "  <tbody>\n",
       "    <tr>\n",
       "      <th>0</th>\n",
       "      <td>1</td>\n",
       "      <td>1</td>\n",
       "      <td>4/30/2017</td>\n",
       "      <td>24924.50</td>\n",
       "      <td>False</td>\n",
       "    </tr>\n",
       "    <tr>\n",
       "      <th>143</th>\n",
       "      <td>1</td>\n",
       "      <td>2</td>\n",
       "      <td>4/30/2017</td>\n",
       "      <td>50605.27</td>\n",
       "      <td>False</td>\n",
       "    </tr>\n",
       "    <tr>\n",
       "      <th>286</th>\n",
       "      <td>1</td>\n",
       "      <td>3</td>\n",
       "      <td>4/30/2017</td>\n",
       "      <td>13740.12</td>\n",
       "      <td>False</td>\n",
       "    </tr>\n",
       "    <tr>\n",
       "      <th>429</th>\n",
       "      <td>1</td>\n",
       "      <td>4</td>\n",
       "      <td>4/30/2017</td>\n",
       "      <td>39954.04</td>\n",
       "      <td>False</td>\n",
       "    </tr>\n",
       "    <tr>\n",
       "      <th>572</th>\n",
       "      <td>1</td>\n",
       "      <td>5</td>\n",
       "      <td>4/30/2017</td>\n",
       "      <td>32229.38</td>\n",
       "      <td>False</td>\n",
       "    </tr>\n",
       "    <tr>\n",
       "      <th>...</th>\n",
       "      <td>...</td>\n",
       "      <td>...</td>\n",
       "      <td>...</td>\n",
       "      <td>...</td>\n",
       "      <td>...</td>\n",
       "    </tr>\n",
       "    <tr>\n",
       "      <th>420727</th>\n",
       "      <td>45</td>\n",
       "      <td>92</td>\n",
       "      <td>4/30/2017</td>\n",
       "      <td>68203.08</td>\n",
       "      <td>False</td>\n",
       "    </tr>\n",
       "    <tr>\n",
       "      <th>420870</th>\n",
       "      <td>45</td>\n",
       "      <td>93</td>\n",
       "      <td>4/30/2017</td>\n",
       "      <td>4002.34</td>\n",
       "      <td>False</td>\n",
       "    </tr>\n",
       "    <tr>\n",
       "      <th>421147</th>\n",
       "      <td>45</td>\n",
       "      <td>95</td>\n",
       "      <td>4/30/2017</td>\n",
       "      <td>63833.63</td>\n",
       "      <td>False</td>\n",
       "    </tr>\n",
       "    <tr>\n",
       "      <th>421292</th>\n",
       "      <td>45</td>\n",
       "      <td>97</td>\n",
       "      <td>4/30/2017</td>\n",
       "      <td>8393.22</td>\n",
       "      <td>False</td>\n",
       "    </tr>\n",
       "    <tr>\n",
       "      <th>421435</th>\n",
       "      <td>45</td>\n",
       "      <td>98</td>\n",
       "      <td>4/30/2017</td>\n",
       "      <td>347.23</td>\n",
       "      <td>False</td>\n",
       "    </tr>\n",
       "  </tbody>\n",
       "</table>\n",
       "<p>2955 rows × 5 columns</p>\n",
       "</div>"
      ],
      "text/plain": [
       "        Store  Department       Date  Total_Sales  Holiday\n",
       "0           1           1  4/30/2017     24924.50    False\n",
       "143         1           2  4/30/2017     50605.27    False\n",
       "286         1           3  4/30/2017     13740.12    False\n",
       "429         1           4  4/30/2017     39954.04    False\n",
       "572         1           5  4/30/2017     32229.38    False\n",
       "...       ...         ...        ...          ...      ...\n",
       "420727     45          92  4/30/2017     68203.08    False\n",
       "420870     45          93  4/30/2017      4002.34    False\n",
       "421147     45          95  4/30/2017     63833.63    False\n",
       "421292     45          97  4/30/2017      8393.22    False\n",
       "421435     45          98  4/30/2017       347.23    False\n",
       "\n",
       "[2955 rows x 5 columns]"
      ]
     },
     "execution_count": 7,
     "metadata": {},
     "output_type": "execute_result"
    }
   ],
   "source": [
    "# Checking how many transaction happend on same date 4/30/2017\n",
    "df2[df2['Date']=='4/30/2017']"
   ]
  },
  {
   "cell_type": "markdown",
   "id": "c603b246",
   "metadata": {},
   "source": [
    "Before going to grouping as we seen in Sales History (df2) has Two garbage columns 'Holiday' and 'Department', in business data (df1) Holiday column is already there so, we will remove from df2. There is no use of 'Department' column in model building, so we will also remove it.\n"
   ]
  },
  {
   "cell_type": "code",
   "execution_count": 8,
   "id": "2df914eb",
   "metadata": {},
   "outputs": [],
   "source": [
    "# Removing the garbage columns from df2\n",
    "df2.drop(['Holiday','Department'],axis=1,inplace=True)\n"
   ]
  },
  {
   "cell_type": "code",
   "execution_count": 9,
   "id": "f40c0824",
   "metadata": {},
   "outputs": [
    {
     "data": {
      "text/html": [
       "<div>\n",
       "<style scoped>\n",
       "    .dataframe tbody tr th:only-of-type {\n",
       "        vertical-align: middle;\n",
       "    }\n",
       "\n",
       "    .dataframe tbody tr th {\n",
       "        vertical-align: top;\n",
       "    }\n",
       "\n",
       "    .dataframe thead th {\n",
       "        text-align: right;\n",
       "    }\n",
       "</style>\n",
       "<table border=\"1\" class=\"dataframe\">\n",
       "  <thead>\n",
       "    <tr style=\"text-align: right;\">\n",
       "      <th></th>\n",
       "      <th>Store</th>\n",
       "      <th>Date</th>\n",
       "      <th>Total_Sales</th>\n",
       "    </tr>\n",
       "  </thead>\n",
       "  <tbody>\n",
       "    <tr>\n",
       "      <th>0</th>\n",
       "      <td>1</td>\n",
       "      <td>01-02-2018</td>\n",
       "      <td>1495064.75</td>\n",
       "    </tr>\n",
       "    <tr>\n",
       "      <th>1</th>\n",
       "      <td>1</td>\n",
       "      <td>01-04-2019</td>\n",
       "      <td>1624477.58</td>\n",
       "    </tr>\n",
       "    <tr>\n",
       "      <th>2</th>\n",
       "      <td>1</td>\n",
       "      <td>01-05-2018</td>\n",
       "      <td>1488538.09</td>\n",
       "    </tr>\n",
       "    <tr>\n",
       "      <th>3</th>\n",
       "      <td>1</td>\n",
       "      <td>01-08-2017</td>\n",
       "      <td>1453329.50</td>\n",
       "    </tr>\n",
       "    <tr>\n",
       "      <th>4</th>\n",
       "      <td>1</td>\n",
       "      <td>01-11-2019</td>\n",
       "      <td>1459601.17</td>\n",
       "    </tr>\n",
       "  </tbody>\n",
       "</table>\n",
       "</div>"
      ],
      "text/plain": [
       "   Store        Date  Total_Sales\n",
       "0      1  01-02-2018   1495064.75\n",
       "1      1  01-04-2019   1624477.58\n",
       "2      1  01-05-2018   1488538.09\n",
       "3      1  01-08-2017   1453329.50\n",
       "4      1  01-11-2019   1459601.17"
      ]
     },
     "execution_count": 9,
     "metadata": {},
     "output_type": "execute_result"
    }
   ],
   "source": [
    "#Now we will group the df2 on date columns\n",
    "df2= df2.groupby(['Store','Date']).agg({'Total_Sales': 'sum'}).reset_index()\n",
    "df2.head()"
   ]
  },
  {
   "cell_type": "code",
   "execution_count": 10,
   "id": "195651a7",
   "metadata": {},
   "outputs": [
    {
     "data": {
      "text/plain": [
       "(6435, 3)"
      ]
     },
     "execution_count": 10,
     "metadata": {},
     "output_type": "execute_result"
    }
   ],
   "source": [
    "# lets see the shape of df2\n",
    "df2.shape"
   ]
  },
  {
   "cell_type": "code",
   "execution_count": 11,
   "id": "69d224fd",
   "metadata": {},
   "outputs": [
    {
     "data": {
      "text/html": [
       "<div>\n",
       "<style scoped>\n",
       "    .dataframe tbody tr th:only-of-type {\n",
       "        vertical-align: middle;\n",
       "    }\n",
       "\n",
       "    .dataframe tbody tr th {\n",
       "        vertical-align: top;\n",
       "    }\n",
       "\n",
       "    .dataframe thead th {\n",
       "        text-align: right;\n",
       "    }\n",
       "</style>\n",
       "<table border=\"1\" class=\"dataframe\">\n",
       "  <thead>\n",
       "    <tr style=\"text-align: right;\">\n",
       "      <th></th>\n",
       "      <th>Store</th>\n",
       "      <th>Date</th>\n",
       "      <th>Temperature</th>\n",
       "      <th>Fuel_Price</th>\n",
       "      <th>MarkDown1</th>\n",
       "      <th>MarkDown2</th>\n",
       "      <th>MarkDown3</th>\n",
       "      <th>MarkDown4</th>\n",
       "      <th>MarkDown5</th>\n",
       "      <th>CPI</th>\n",
       "      <th>Unemployment_Rate</th>\n",
       "      <th>Holiday</th>\n",
       "      <th>Total_Sales</th>\n",
       "      <th>Type</th>\n",
       "      <th>Address</th>\n",
       "      <th>Area_Code</th>\n",
       "      <th>Location</th>\n",
       "      <th>Size</th>\n",
       "    </tr>\n",
       "  </thead>\n",
       "  <tbody>\n",
       "    <tr>\n",
       "      <th>0</th>\n",
       "      <td>1</td>\n",
       "      <td>4/30/2017</td>\n",
       "      <td>42.31</td>\n",
       "      <td>2.572</td>\n",
       "      <td>NaN</td>\n",
       "      <td>NaN</td>\n",
       "      <td>NaN</td>\n",
       "      <td>NaN</td>\n",
       "      <td>NaN</td>\n",
       "      <td>211.096358</td>\n",
       "      <td>8.106</td>\n",
       "      <td>False</td>\n",
       "      <td>1643690.90</td>\n",
       "      <td>E-Commerce Fulfillment</td>\n",
       "      <td>1893 W Malvern Ave, Fullerton, California</td>\n",
       "      <td>92835</td>\n",
       "      <td>Applegate Ranch Shopping Cente</td>\n",
       "      <td>151315</td>\n",
       "    </tr>\n",
       "    <tr>\n",
       "      <th>1</th>\n",
       "      <td>1</td>\n",
       "      <td>11/30/2017</td>\n",
       "      <td>38.51</td>\n",
       "      <td>2.548</td>\n",
       "      <td>NaN</td>\n",
       "      <td>NaN</td>\n",
       "      <td>NaN</td>\n",
       "      <td>NaN</td>\n",
       "      <td>NaN</td>\n",
       "      <td>211.242170</td>\n",
       "      <td>8.106</td>\n",
       "      <td>True</td>\n",
       "      <td>1641957.44</td>\n",
       "      <td>E-Commerce Fulfillment</td>\n",
       "      <td>1893 W Malvern Ave, Fullerton, California</td>\n",
       "      <td>92835</td>\n",
       "      <td>Applegate Ranch Shopping Cente</td>\n",
       "      <td>151315</td>\n",
       "    </tr>\n",
       "    <tr>\n",
       "      <th>2</th>\n",
       "      <td>1</td>\n",
       "      <td>2/17/2017</td>\n",
       "      <td>39.93</td>\n",
       "      <td>2.514</td>\n",
       "      <td>NaN</td>\n",
       "      <td>NaN</td>\n",
       "      <td>NaN</td>\n",
       "      <td>NaN</td>\n",
       "      <td>NaN</td>\n",
       "      <td>211.289143</td>\n",
       "      <td>8.106</td>\n",
       "      <td>False</td>\n",
       "      <td>1611968.17</td>\n",
       "      <td>E-Commerce Fulfillment</td>\n",
       "      <td>1893 W Malvern Ave, Fullerton, California</td>\n",
       "      <td>92835</td>\n",
       "      <td>Applegate Ranch Shopping Cente</td>\n",
       "      <td>151315</td>\n",
       "    </tr>\n",
       "    <tr>\n",
       "      <th>3</th>\n",
       "      <td>1</td>\n",
       "      <td>2/24/2017</td>\n",
       "      <td>46.63</td>\n",
       "      <td>2.561</td>\n",
       "      <td>NaN</td>\n",
       "      <td>NaN</td>\n",
       "      <td>NaN</td>\n",
       "      <td>NaN</td>\n",
       "      <td>NaN</td>\n",
       "      <td>211.319643</td>\n",
       "      <td>8.106</td>\n",
       "      <td>False</td>\n",
       "      <td>1409727.59</td>\n",
       "      <td>E-Commerce Fulfillment</td>\n",
       "      <td>1893 W Malvern Ave, Fullerton, California</td>\n",
       "      <td>92835</td>\n",
       "      <td>Applegate Ranch Shopping Cente</td>\n",
       "      <td>151315</td>\n",
       "    </tr>\n",
       "    <tr>\n",
       "      <th>4</th>\n",
       "      <td>1</td>\n",
       "      <td>5/1/2017</td>\n",
       "      <td>46.50</td>\n",
       "      <td>2.625</td>\n",
       "      <td>NaN</td>\n",
       "      <td>NaN</td>\n",
       "      <td>NaN</td>\n",
       "      <td>NaN</td>\n",
       "      <td>NaN</td>\n",
       "      <td>211.350143</td>\n",
       "      <td>8.106</td>\n",
       "      <td>False</td>\n",
       "      <td>NaN</td>\n",
       "      <td>E-Commerce Fulfillment</td>\n",
       "      <td>1893 W Malvern Ave, Fullerton, California</td>\n",
       "      <td>92835</td>\n",
       "      <td>Applegate Ranch Shopping Cente</td>\n",
       "      <td>151315</td>\n",
       "    </tr>\n",
       "  </tbody>\n",
       "</table>\n",
       "</div>"
      ],
      "text/plain": [
       "   Store        Date  Temperature  Fuel_Price  MarkDown1  MarkDown2  \\\n",
       "0      1   4/30/2017        42.31       2.572        NaN        NaN   \n",
       "1      1  11/30/2017        38.51       2.548        NaN        NaN   \n",
       "2      1   2/17/2017        39.93       2.514        NaN        NaN   \n",
       "3      1   2/24/2017        46.63       2.561        NaN        NaN   \n",
       "4      1    5/1/2017        46.50       2.625        NaN        NaN   \n",
       "\n",
       "   MarkDown3  MarkDown4  MarkDown5         CPI  Unemployment_Rate  Holiday  \\\n",
       "0        NaN        NaN        NaN  211.096358              8.106    False   \n",
       "1        NaN        NaN        NaN  211.242170              8.106     True   \n",
       "2        NaN        NaN        NaN  211.289143              8.106    False   \n",
       "3        NaN        NaN        NaN  211.319643              8.106    False   \n",
       "4        NaN        NaN        NaN  211.350143              8.106    False   \n",
       "\n",
       "   Total_Sales                    Type  \\\n",
       "0   1643690.90  E-Commerce Fulfillment   \n",
       "1   1641957.44  E-Commerce Fulfillment   \n",
       "2   1611968.17  E-Commerce Fulfillment   \n",
       "3   1409727.59  E-Commerce Fulfillment   \n",
       "4          NaN  E-Commerce Fulfillment   \n",
       "\n",
       "                                     Address  Area_Code  \\\n",
       "0  1893 W Malvern Ave, Fullerton, California      92835   \n",
       "1  1893 W Malvern Ave, Fullerton, California      92835   \n",
       "2  1893 W Malvern Ave, Fullerton, California      92835   \n",
       "3  1893 W Malvern Ave, Fullerton, California      92835   \n",
       "4  1893 W Malvern Ave, Fullerton, California      92835   \n",
       "\n",
       "                         Location    Size  \n",
       "0  Applegate Ranch Shopping Cente  151315  \n",
       "1  Applegate Ranch Shopping Cente  151315  \n",
       "2  Applegate Ranch Shopping Cente  151315  \n",
       "3  Applegate Ranch Shopping Cente  151315  \n",
       "4  Applegate Ranch Shopping Cente  151315  "
      ]
     },
     "execution_count": 11,
     "metadata": {},
     "output_type": "execute_result"
    }
   ],
   "source": [
    "# Merging all 3 datasets based on common columns\n",
    "df1_df2 = pd.merge(df1, df2, how = 'left', left_on=['Store','Date'], right_on = ['Store','Date'])\n",
    "df = pd.merge(df1_df2, df3, on = 'Store', how = 'left')\n",
    "df.head()"
   ]
  },
  {
   "cell_type": "code",
   "execution_count": 12,
   "id": "4b1d374e",
   "metadata": {},
   "outputs": [
    {
     "data": {
      "text/plain": [
       "(8190, 18)"
      ]
     },
     "execution_count": 12,
     "metadata": {},
     "output_type": "execute_result"
    }
   ],
   "source": [
    "# Lets look at the shape of final data\n",
    "df.shape"
   ]
  },
  {
   "cell_type": "code",
   "execution_count": 13,
   "id": "c7f9fe89",
   "metadata": {},
   "outputs": [],
   "source": [
    "# After replacing all NA values with zero in each \"MarkDown\" column (NA stands for \"no discount\"), add all markdowns.\n",
    "for i in ['MarkDown1','MarkDown2','MarkDown3','MarkDown4','MarkDown5']:\n",
    "  df[i] = df[i].fillna(0)"
   ]
  },
  {
   "cell_type": "markdown",
   "id": "f758c1c0",
   "metadata": {},
   "source": [
    "The garbage columns \"Store,\" \"Address,\" \"Area Code,\" and \"Location\" do not contribute anything to the model columns, which are unique information for each store (stores 1 through 45) in the form of huge texts and numbers. Because we already take shop size into account, there is no need to include these columns, hence they will be removed. \n",
    "\n",
    "Also, we are going to add all the MarksDowns which is discount given on particular dates and names a new column which is Totaol_markdown"
   ]
  },
  {
   "cell_type": "code",
   "execution_count": 14,
   "id": "e929d30c",
   "metadata": {},
   "outputs": [
    {
     "name": "stderr",
     "output_type": "stream",
     "text": [
      "<ipython-input-14-c198bd29df19>:5: FutureWarning: Series.dt.weekofyear and Series.dt.week have been deprecated.  Please use Series.dt.isocalendar().week instead.\n",
      "  df['weeknumber']= pd.to_datetime(df['Date'],errors ='coerce').dt.week\n"
     ]
    }
   ],
   "source": [
    "# Replacing the Column Holidays , False =NO, and True=YES\n",
    "df['Holiday']=np.where(df['Holiday']==False,\"No\",\"Yes\")\n",
    "\n",
    "# converting the column of Date into Datetime datatype and extracting week number from date columns\n",
    "df['weeknumber']= pd.to_datetime(df['Date'],errors ='coerce').dt.week\n"
   ]
  },
  {
   "cell_type": "code",
   "execution_count": 15,
   "id": "a7812087",
   "metadata": {},
   "outputs": [
    {
     "data": {
      "text/html": [
       "<div>\n",
       "<style scoped>\n",
       "    .dataframe tbody tr th:only-of-type {\n",
       "        vertical-align: middle;\n",
       "    }\n",
       "\n",
       "    .dataframe tbody tr th {\n",
       "        vertical-align: top;\n",
       "    }\n",
       "\n",
       "    .dataframe thead th {\n",
       "        text-align: right;\n",
       "    }\n",
       "</style>\n",
       "<table border=\"1\" class=\"dataframe\">\n",
       "  <thead>\n",
       "    <tr style=\"text-align: right;\">\n",
       "      <th></th>\n",
       "      <th>Temperature</th>\n",
       "      <th>Fuel_Price</th>\n",
       "      <th>CPI</th>\n",
       "      <th>Unemployment_Rate</th>\n",
       "      <th>Holiday</th>\n",
       "      <th>Total_Sales</th>\n",
       "      <th>Type</th>\n",
       "      <th>Size</th>\n",
       "      <th>weeknumber</th>\n",
       "      <th>Total_MarkDown</th>\n",
       "    </tr>\n",
       "  </thead>\n",
       "  <tbody>\n",
       "    <tr>\n",
       "      <th>0</th>\n",
       "      <td>42.31</td>\n",
       "      <td>2.572</td>\n",
       "      <td>211.096358</td>\n",
       "      <td>8.106</td>\n",
       "      <td>No</td>\n",
       "      <td>1643690.90</td>\n",
       "      <td>E-Commerce Fulfillment</td>\n",
       "      <td>151315</td>\n",
       "      <td>17</td>\n",
       "      <td>0.0</td>\n",
       "    </tr>\n",
       "    <tr>\n",
       "      <th>1</th>\n",
       "      <td>38.51</td>\n",
       "      <td>2.548</td>\n",
       "      <td>211.242170</td>\n",
       "      <td>8.106</td>\n",
       "      <td>Yes</td>\n",
       "      <td>1641957.44</td>\n",
       "      <td>E-Commerce Fulfillment</td>\n",
       "      <td>151315</td>\n",
       "      <td>48</td>\n",
       "      <td>0.0</td>\n",
       "    </tr>\n",
       "    <tr>\n",
       "      <th>2</th>\n",
       "      <td>39.93</td>\n",
       "      <td>2.514</td>\n",
       "      <td>211.289143</td>\n",
       "      <td>8.106</td>\n",
       "      <td>No</td>\n",
       "      <td>1611968.17</td>\n",
       "      <td>E-Commerce Fulfillment</td>\n",
       "      <td>151315</td>\n",
       "      <td>7</td>\n",
       "      <td>0.0</td>\n",
       "    </tr>\n",
       "    <tr>\n",
       "      <th>3</th>\n",
       "      <td>46.63</td>\n",
       "      <td>2.561</td>\n",
       "      <td>211.319643</td>\n",
       "      <td>8.106</td>\n",
       "      <td>No</td>\n",
       "      <td>1409727.59</td>\n",
       "      <td>E-Commerce Fulfillment</td>\n",
       "      <td>151315</td>\n",
       "      <td>8</td>\n",
       "      <td>0.0</td>\n",
       "    </tr>\n",
       "    <tr>\n",
       "      <th>4</th>\n",
       "      <td>46.50</td>\n",
       "      <td>2.625</td>\n",
       "      <td>211.350143</td>\n",
       "      <td>8.106</td>\n",
       "      <td>No</td>\n",
       "      <td>NaN</td>\n",
       "      <td>E-Commerce Fulfillment</td>\n",
       "      <td>151315</td>\n",
       "      <td>18</td>\n",
       "      <td>0.0</td>\n",
       "    </tr>\n",
       "  </tbody>\n",
       "</table>\n",
       "</div>"
      ],
      "text/plain": [
       "   Temperature  Fuel_Price         CPI  Unemployment_Rate Holiday  \\\n",
       "0        42.31       2.572  211.096358              8.106      No   \n",
       "1        38.51       2.548  211.242170              8.106     Yes   \n",
       "2        39.93       2.514  211.289143              8.106      No   \n",
       "3        46.63       2.561  211.319643              8.106      No   \n",
       "4        46.50       2.625  211.350143              8.106      No   \n",
       "\n",
       "   Total_Sales                    Type    Size  weeknumber  Total_MarkDown  \n",
       "0   1643690.90  E-Commerce Fulfillment  151315          17             0.0  \n",
       "1   1641957.44  E-Commerce Fulfillment  151315          48             0.0  \n",
       "2   1611968.17  E-Commerce Fulfillment  151315           7             0.0  \n",
       "3   1409727.59  E-Commerce Fulfillment  151315           8             0.0  \n",
       "4          NaN  E-Commerce Fulfillment  151315          18             0.0  "
      ]
     },
     "execution_count": 15,
     "metadata": {},
     "output_type": "execute_result"
    }
   ],
   "source": [
    "# Adding all the markdown 1 to 5:\n",
    "df['Total_MarkDown']= df['MarkDown1']+df['MarkDown2']+df['MarkDown3']+df['MarkDown4']+df['MarkDown5']\n",
    "\n",
    "# droping the useless columns \n",
    "df.drop(['MarkDown1','MarkDown2','MarkDown3','MarkDown4','MarkDown5','Date','Store','Address', 'Area_Code', 'Location'], inplace = True,axis=1)\n",
    "df.head()"
   ]
  },
  {
   "cell_type": "code",
   "execution_count": 16,
   "id": "e11e598b",
   "metadata": {},
   "outputs": [
    {
     "data": {
      "text/html": [
       "<div>\n",
       "<style scoped>\n",
       "    .dataframe tbody tr th:only-of-type {\n",
       "        vertical-align: middle;\n",
       "    }\n",
       "\n",
       "    .dataframe tbody tr th {\n",
       "        vertical-align: top;\n",
       "    }\n",
       "\n",
       "    .dataframe thead th {\n",
       "        text-align: right;\n",
       "    }\n",
       "</style>\n",
       "<table border=\"1\" class=\"dataframe\">\n",
       "  <thead>\n",
       "    <tr style=\"text-align: right;\">\n",
       "      <th></th>\n",
       "      <th>Temperature</th>\n",
       "      <th>Fuel_Price</th>\n",
       "      <th>CPI</th>\n",
       "      <th>Unemployment_Rate</th>\n",
       "      <th>Total_Sales</th>\n",
       "      <th>Size</th>\n",
       "      <th>weeknumber</th>\n",
       "      <th>Total_MarkDown</th>\n",
       "    </tr>\n",
       "  </thead>\n",
       "  <tbody>\n",
       "    <tr>\n",
       "      <th>count</th>\n",
       "      <td>8190.000000</td>\n",
       "      <td>8190.000000</td>\n",
       "      <td>7605.000000</td>\n",
       "      <td>7605.000000</td>\n",
       "      <td>3.780000e+03</td>\n",
       "      <td>8190.000000</td>\n",
       "      <td>8190.000000</td>\n",
       "      <td>8190.000000</td>\n",
       "    </tr>\n",
       "    <tr>\n",
       "      <th>mean</th>\n",
       "      <td>59.356198</td>\n",
       "      <td>3.405992</td>\n",
       "      <td>172.460809</td>\n",
       "      <td>7.826821</td>\n",
       "      <td>1.042570e+06</td>\n",
       "      <td>130287.600000</td>\n",
       "      <td>25.851648</td>\n",
       "      <td>8881.703448</td>\n",
       "    </tr>\n",
       "    <tr>\n",
       "      <th>std</th>\n",
       "      <td>18.678607</td>\n",
       "      <td>0.431337</td>\n",
       "      <td>39.738346</td>\n",
       "      <td>1.877259</td>\n",
       "      <td>5.721346e+05</td>\n",
       "      <td>63115.971429</td>\n",
       "      <td>14.788965</td>\n",
       "      <td>19084.538888</td>\n",
       "    </tr>\n",
       "    <tr>\n",
       "      <th>min</th>\n",
       "      <td>-7.290000</td>\n",
       "      <td>2.472000</td>\n",
       "      <td>126.064000</td>\n",
       "      <td>3.684000</td>\n",
       "      <td>2.135383e+05</td>\n",
       "      <td>34875.000000</td>\n",
       "      <td>1.000000</td>\n",
       "      <td>-1692.480000</td>\n",
       "    </tr>\n",
       "    <tr>\n",
       "      <th>25%</th>\n",
       "      <td>45.902500</td>\n",
       "      <td>3.041000</td>\n",
       "      <td>132.364839</td>\n",
       "      <td>6.634000</td>\n",
       "      <td>5.463774e+05</td>\n",
       "      <td>70713.000000</td>\n",
       "      <td>13.000000</td>\n",
       "      <td>0.000000</td>\n",
       "    </tr>\n",
       "    <tr>\n",
       "      <th>50%</th>\n",
       "      <td>60.710000</td>\n",
       "      <td>3.513000</td>\n",
       "      <td>182.764003</td>\n",
       "      <td>7.806000</td>\n",
       "      <td>9.537690e+05</td>\n",
       "      <td>126512.000000</td>\n",
       "      <td>25.000000</td>\n",
       "      <td>0.000000</td>\n",
       "    </tr>\n",
       "    <tr>\n",
       "      <th>75%</th>\n",
       "      <td>73.880000</td>\n",
       "      <td>3.743000</td>\n",
       "      <td>213.932412</td>\n",
       "      <td>8.567000</td>\n",
       "      <td>1.401411e+06</td>\n",
       "      <td>202307.000000</td>\n",
       "      <td>38.000000</td>\n",
       "      <td>11819.642500</td>\n",
       "    </tr>\n",
       "    <tr>\n",
       "      <th>max</th>\n",
       "      <td>101.950000</td>\n",
       "      <td>4.468000</td>\n",
       "      <td>228.976456</td>\n",
       "      <td>14.313000</td>\n",
       "      <td>3.818686e+06</td>\n",
       "      <td>219622.000000</td>\n",
       "      <td>52.000000</td>\n",
       "      <td>783529.450000</td>\n",
       "    </tr>\n",
       "  </tbody>\n",
       "</table>\n",
       "</div>"
      ],
      "text/plain": [
       "       Temperature   Fuel_Price          CPI  Unemployment_Rate   Total_Sales  \\\n",
       "count  8190.000000  8190.000000  7605.000000        7605.000000  3.780000e+03   \n",
       "mean     59.356198     3.405992   172.460809           7.826821  1.042570e+06   \n",
       "std      18.678607     0.431337    39.738346           1.877259  5.721346e+05   \n",
       "min      -7.290000     2.472000   126.064000           3.684000  2.135383e+05   \n",
       "25%      45.902500     3.041000   132.364839           6.634000  5.463774e+05   \n",
       "50%      60.710000     3.513000   182.764003           7.806000  9.537690e+05   \n",
       "75%      73.880000     3.743000   213.932412           8.567000  1.401411e+06   \n",
       "max     101.950000     4.468000   228.976456          14.313000  3.818686e+06   \n",
       "\n",
       "                Size   weeknumber  Total_MarkDown  \n",
       "count    8190.000000  8190.000000     8190.000000  \n",
       "mean   130287.600000    25.851648     8881.703448  \n",
       "std     63115.971429    14.788965    19084.538888  \n",
       "min     34875.000000     1.000000    -1692.480000  \n",
       "25%     70713.000000    13.000000        0.000000  \n",
       "50%    126512.000000    25.000000        0.000000  \n",
       "75%    202307.000000    38.000000    11819.642500  \n",
       "max    219622.000000    52.000000   783529.450000  "
      ]
     },
     "execution_count": 16,
     "metadata": {},
     "output_type": "execute_result"
    }
   ],
   "source": [
    "df.describe()"
   ]
  },
  {
   "cell_type": "markdown",
   "id": "304d2d10",
   "metadata": {},
   "source": [
    "From above table we conclude that:\n",
    "- The average Temeprature is around 59.35, min= 7.290000, max=  101.950000\n",
    "- The average CPI value is around 172\n",
    "- The average Unemployment_Rate is around 7.826821 which is not too bad\n",
    "- The Total_MarkDown which is discount given on that particular date, it should not be negative \n",
    "\n",
    "We will look at the neagative discount"
   ]
  },
  {
   "cell_type": "code",
   "execution_count": 17,
   "id": "3d453ead",
   "metadata": {},
   "outputs": [
    {
     "data": {
      "text/html": [
       "<div>\n",
       "<style scoped>\n",
       "    .dataframe tbody tr th:only-of-type {\n",
       "        vertical-align: middle;\n",
       "    }\n",
       "\n",
       "    .dataframe tbody tr th {\n",
       "        vertical-align: top;\n",
       "    }\n",
       "\n",
       "    .dataframe thead th {\n",
       "        text-align: right;\n",
       "    }\n",
       "</style>\n",
       "<table border=\"1\" class=\"dataframe\">\n",
       "  <thead>\n",
       "    <tr style=\"text-align: right;\">\n",
       "      <th></th>\n",
       "      <th>Temperature</th>\n",
       "      <th>Fuel_Price</th>\n",
       "      <th>CPI</th>\n",
       "      <th>Unemployment_Rate</th>\n",
       "      <th>Holiday</th>\n",
       "      <th>Total_Sales</th>\n",
       "      <th>Type</th>\n",
       "      <th>Size</th>\n",
       "      <th>weeknumber</th>\n",
       "      <th>Total_MarkDown</th>\n",
       "    </tr>\n",
       "  </thead>\n",
       "  <tbody>\n",
       "    <tr>\n",
       "      <th>5437</th>\n",
       "      <td>49.09</td>\n",
       "      <td>3.597</td>\n",
       "      <td>224.054703</td>\n",
       "      <td>6.237</td>\n",
       "      <td>No</td>\n",
       "      <td>NaN</td>\n",
       "      <td>Regional</td>\n",
       "      <td>42988</td>\n",
       "      <td>8</td>\n",
       "      <td>-1692.48</td>\n",
       "    </tr>\n",
       "    <tr>\n",
       "      <th>6518</th>\n",
       "      <td>68.04</td>\n",
       "      <td>3.204</td>\n",
       "      <td>222.325549</td>\n",
       "      <td>6.228</td>\n",
       "      <td>No</td>\n",
       "      <td>NaN</td>\n",
       "      <td>E-Commerce Fulfillment</td>\n",
       "      <td>39910</td>\n",
       "      <td>28</td>\n",
       "      <td>-80.11</td>\n",
       "    </tr>\n",
       "  </tbody>\n",
       "</table>\n",
       "</div>"
      ],
      "text/plain": [
       "      Temperature  Fuel_Price         CPI  Unemployment_Rate Holiday  \\\n",
       "5437        49.09       3.597  224.054703              6.237      No   \n",
       "6518        68.04       3.204  222.325549              6.228      No   \n",
       "\n",
       "      Total_Sales                    Type   Size  weeknumber  Total_MarkDown  \n",
       "5437          NaN                Regional  42988           8        -1692.48  \n",
       "6518          NaN  E-Commerce Fulfillment  39910          28          -80.11  "
      ]
     },
     "execution_count": 17,
     "metadata": {},
     "output_type": "execute_result"
    }
   ],
   "source": [
    "df[df['Total_MarkDown']<0]"
   ]
  },
  {
   "cell_type": "markdown",
   "id": "4a05e31e",
   "metadata": {},
   "source": [
    "As we seen from above data there are two rows where there is neagtive discount, we will remove it"
   ]
  },
  {
   "cell_type": "code",
   "execution_count": 18,
   "id": "c02aece8",
   "metadata": {},
   "outputs": [
    {
     "data": {
      "text/html": [
       "<div>\n",
       "<style scoped>\n",
       "    .dataframe tbody tr th:only-of-type {\n",
       "        vertical-align: middle;\n",
       "    }\n",
       "\n",
       "    .dataframe tbody tr th {\n",
       "        vertical-align: top;\n",
       "    }\n",
       "\n",
       "    .dataframe thead th {\n",
       "        text-align: right;\n",
       "    }\n",
       "</style>\n",
       "<table border=\"1\" class=\"dataframe\">\n",
       "  <thead>\n",
       "    <tr style=\"text-align: right;\">\n",
       "      <th></th>\n",
       "      <th>Temperature</th>\n",
       "      <th>Fuel_Price</th>\n",
       "      <th>CPI</th>\n",
       "      <th>Unemployment_Rate</th>\n",
       "      <th>Total_Sales</th>\n",
       "      <th>Size</th>\n",
       "      <th>weeknumber</th>\n",
       "      <th>Total_MarkDown</th>\n",
       "    </tr>\n",
       "  </thead>\n",
       "  <tbody>\n",
       "    <tr>\n",
       "      <th>count</th>\n",
       "      <td>8188.000000</td>\n",
       "      <td>8188.000000</td>\n",
       "      <td>7603.000000</td>\n",
       "      <td>7603.000000</td>\n",
       "      <td>3.780000e+03</td>\n",
       "      <td>8188.000000</td>\n",
       "      <td>8188.000000</td>\n",
       "      <td>8188.000000</td>\n",
       "    </tr>\n",
       "    <tr>\n",
       "      <th>mean</th>\n",
       "      <td>59.356391</td>\n",
       "      <td>3.405993</td>\n",
       "      <td>172.447465</td>\n",
       "      <td>7.827240</td>\n",
       "      <td>1.042570e+06</td>\n",
       "      <td>130309.299707</td>\n",
       "      <td>25.853566</td>\n",
       "      <td>8884.089378</td>\n",
       "    </tr>\n",
       "    <tr>\n",
       "      <th>std</th>\n",
       "      <td>18.680297</td>\n",
       "      <td>0.431378</td>\n",
       "      <td>39.735050</td>\n",
       "      <td>1.877327</td>\n",
       "      <td>5.721346e+05</td>\n",
       "      <td>63108.398424</td>\n",
       "      <td>14.789436</td>\n",
       "      <td>19086.254913</td>\n",
       "    </tr>\n",
       "    <tr>\n",
       "      <th>min</th>\n",
       "      <td>-7.290000</td>\n",
       "      <td>2.472000</td>\n",
       "      <td>126.064000</td>\n",
       "      <td>3.684000</td>\n",
       "      <td>2.135383e+05</td>\n",
       "      <td>34875.000000</td>\n",
       "      <td>1.000000</td>\n",
       "      <td>0.000000</td>\n",
       "    </tr>\n",
       "    <tr>\n",
       "      <th>25%</th>\n",
       "      <td>45.900000</td>\n",
       "      <td>3.041000</td>\n",
       "      <td>132.364839</td>\n",
       "      <td>6.634000</td>\n",
       "      <td>5.463774e+05</td>\n",
       "      <td>70713.000000</td>\n",
       "      <td>13.000000</td>\n",
       "      <td>0.000000</td>\n",
       "    </tr>\n",
       "    <tr>\n",
       "      <th>50%</th>\n",
       "      <td>60.710000</td>\n",
       "      <td>3.513000</td>\n",
       "      <td>182.716838</td>\n",
       "      <td>7.806000</td>\n",
       "      <td>9.537690e+05</td>\n",
       "      <td>126512.000000</td>\n",
       "      <td>25.000000</td>\n",
       "      <td>0.000000</td>\n",
       "    </tr>\n",
       "    <tr>\n",
       "      <th>75%</th>\n",
       "      <td>73.880000</td>\n",
       "      <td>3.743000</td>\n",
       "      <td>213.932412</td>\n",
       "      <td>8.567000</td>\n",
       "      <td>1.401411e+06</td>\n",
       "      <td>202307.000000</td>\n",
       "      <td>38.000000</td>\n",
       "      <td>11824.377500</td>\n",
       "    </tr>\n",
       "    <tr>\n",
       "      <th>max</th>\n",
       "      <td>101.950000</td>\n",
       "      <td>4.468000</td>\n",
       "      <td>228.976456</td>\n",
       "      <td>14.313000</td>\n",
       "      <td>3.818686e+06</td>\n",
       "      <td>219622.000000</td>\n",
       "      <td>52.000000</td>\n",
       "      <td>783529.450000</td>\n",
       "    </tr>\n",
       "  </tbody>\n",
       "</table>\n",
       "</div>"
      ],
      "text/plain": [
       "       Temperature   Fuel_Price          CPI  Unemployment_Rate   Total_Sales  \\\n",
       "count  8188.000000  8188.000000  7603.000000        7603.000000  3.780000e+03   \n",
       "mean     59.356391     3.405993   172.447465           7.827240  1.042570e+06   \n",
       "std      18.680297     0.431378    39.735050           1.877327  5.721346e+05   \n",
       "min      -7.290000     2.472000   126.064000           3.684000  2.135383e+05   \n",
       "25%      45.900000     3.041000   132.364839           6.634000  5.463774e+05   \n",
       "50%      60.710000     3.513000   182.716838           7.806000  9.537690e+05   \n",
       "75%      73.880000     3.743000   213.932412           8.567000  1.401411e+06   \n",
       "max     101.950000     4.468000   228.976456          14.313000  3.818686e+06   \n",
       "\n",
       "                Size   weeknumber  Total_MarkDown  \n",
       "count    8188.000000  8188.000000     8188.000000  \n",
       "mean   130309.299707    25.853566     8884.089378  \n",
       "std     63108.398424    14.789436    19086.254913  \n",
       "min     34875.000000     1.000000        0.000000  \n",
       "25%     70713.000000    13.000000        0.000000  \n",
       "50%    126512.000000    25.000000        0.000000  \n",
       "75%    202307.000000    38.000000    11824.377500  \n",
       "max    219622.000000    52.000000   783529.450000  "
      ]
     },
     "execution_count": 18,
     "metadata": {},
     "output_type": "execute_result"
    }
   ],
   "source": [
    "# Droping all the Total_MarkDown  values  less than 0 in columns 'Total_MarkDown'\n",
    "df.drop(df.index[df['Total_MarkDown'] < 0], inplace = True)\n",
    "df.describe()"
   ]
  },
  {
   "cell_type": "code",
   "execution_count": 19,
   "id": "b748c80c",
   "metadata": {},
   "outputs": [
    {
     "data": {
      "text/plain": [
       "Temperature          0.000000\n",
       "Fuel_Price           0.000000\n",
       "CPI                  0.071446\n",
       "Unemployment_Rate    0.071446\n",
       "Holiday              0.000000\n",
       "Total_Sales          0.538349\n",
       "Type                 0.000000\n",
       "Size                 0.000000\n",
       "weeknumber           0.000000\n",
       "Total_MarkDown       0.000000\n",
       "dtype: float64"
      ]
     },
     "execution_count": 19,
     "metadata": {},
     "output_type": "execute_result"
    }
   ],
   "source": [
    "# Total missing values in the dataset\n",
    "df.isnull().sum()/len(df) "
   ]
  },
  {
   "cell_type": "markdown",
   "id": "531dfb81",
   "metadata": {},
   "source": [
    "- In Column 'CPI' total 7.14 % mising values\n",
    "- in column 'Unemployment_Rate' also have 7.14 % mising values \n",
    "- Column \"Total_Sales\" has 53.8 % missing values but these values are representing those rows where we need to predict \"Total_sales\" after model building."
   ]
  },
  {
   "cell_type": "code",
   "execution_count": 20,
   "id": "e195a3df",
   "metadata": {},
   "outputs": [],
   "source": [
    " # Handling the missing values in column CPI \n",
    "df['CPI'].fillna(df1['CPI'].mean(),inplace=True)\n",
    "\n",
    "# Handling the missing values in column Unemployment_Rate \n",
    "df['Unemployment_Rate'].fillna(df1['Unemployment_Rate'].mean(),inplace=True)"
   ]
  },
  {
   "cell_type": "markdown",
   "id": "f2b88777",
   "metadata": {},
   "source": [
    "### Outliers Treatement \n",
    "- Before going to build the model outliers should be treated, otherwise it will impact the on final model"
   ]
  },
  {
   "cell_type": "code",
   "execution_count": 21,
   "id": "b5c05cfb",
   "metadata": {},
   "outputs": [],
   "source": [
    "# Continuous variables and categorical variables\n",
    "Cont_cols = df[[\"Temperature\", \"Fuel_Price\", \"CPI\", \"Unemployment_Rate\", \"Total_Sales\", \"Size\", \"Total_MarkDown\"]]\n",
    "cat_cols = df[[\"Holiday\", \"Type\"]]"
   ]
  },
  {
   "cell_type": "code",
   "execution_count": 22,
   "id": "001d8676",
   "metadata": {},
   "outputs": [],
   "source": [
    "# Function to return outliers\n",
    "def detect_outlier(data):\n",
    "    outliers=[]\n",
    "    threshold = 3\n",
    "    mean = np.mean(data)\n",
    "    std =np.std(data)\n",
    "    \n",
    "    \n",
    "    for y in data:\n",
    "        z_score= (y - mean)/std \n",
    "        if np.abs(z_score) > threshold:\n",
    "            outliers.append(y)\n",
    "    return outliers"
   ]
  },
  {
   "cell_type": "code",
   "execution_count": 23,
   "id": "5dd9a162",
   "metadata": {},
   "outputs": [
    {
     "data": {
      "image/png": "[encoded data removed]",
      "text/plain": [
       "<Figure size 720x432 with 1 Axes>"
      ]
     },
     "metadata": {
      "needs_background": "light"
     },
     "output_type": "display_data"
    }
   ],
   "source": [
    "# Boxplot plot to check if there are any outliers in the 'Temperature' column \n",
    "plt.figure(figsize=(10,6))\n",
    "plt.boxplot(df['Temperature'])\n",
    "plt.title(\"Boxplot for 'Temperature' column\",fontsize=15)\n",
    "plt.show()  "
   ]
  },
  {
   "cell_type": "code",
   "execution_count": 24,
   "id": "17431615",
   "metadata": {},
   "outputs": [
    {
     "name": "stdout",
     "output_type": "stream",
     "text": [
      "Outliers for 'Temperature' column are :  [-2.06, 2.32, -6.08, -6.61, -7.29, 2.45, 0.25]\n"
     ]
    }
   ],
   "source": [
    "# Outliers in 'Temperature' column\n",
    "outlier_data = detect_outlier(df['Temperature'])\n",
    "print(\"Outliers for 'Temperature' column are : \", outlier_data)"
   ]
  },
  {
   "cell_type": "markdown",
   "id": "dc21878a",
   "metadata": {},
   "source": [
    "Temperature might goes below the zero, as we seen min temperature is around -7, which is not a outliers.  Because, a temperature value of  [-2.06, 2.32, -6.08, -6.61, -7.29, 2.45, 0.25] is valid Temperature so removing outliers here is not a good option."
   ]
  },
  {
   "cell_type": "code",
   "execution_count": 25,
   "id": "c3a59165",
   "metadata": {},
   "outputs": [
    {
     "data": {
      "image/png": "[encoded data removed]",
      "text/plain": [
       "<Figure size 720x432 with 1 Axes>"
      ]
     },
     "metadata": {
      "needs_background": "light"
     },
     "output_type": "display_data"
    }
   ],
   "source": [
    "# Boxplot plot to check if there are any outliers in the 'Temperature' column \n",
    "plt.figure(figsize=(10,6))\n",
    "plt.boxplot(df['Fuel_Price'])\n",
    "plt.title(\"Boxplot for 'Fuel_Price' column\",fontsize=15)\n",
    "plt.show()  # no utliers found"
   ]
  },
  {
   "cell_type": "code",
   "execution_count": 26,
   "id": "cf81c944",
   "metadata": {},
   "outputs": [
    {
     "data": {
      "image/png": "[encoded data removed]",
      "text/plain": [
       "<Figure size 720x432 with 1 Axes>"
      ]
     },
     "metadata": {
      "needs_background": "light"
     },
     "output_type": "display_data"
    }
   ],
   "source": [
    "# Boxplot plot to check if there are any outliers in the 'Temperature' column \n",
    "plt.figure(figsize=(10,6))\n",
    "plt.boxplot(df['CPI'])\n",
    "plt.title(\"Boxplot for 'CPI' column\",fontsize=15)\n",
    "plt.show()  # no utliers found"
   ]
  },
  {
   "cell_type": "code",
   "execution_count": 27,
   "id": "a986ceff",
   "metadata": {},
   "outputs": [
    {
     "data": {
      "image/png": "[encoded data removed]",
      "text/plain": [
       "<Figure size 720x432 with 1 Axes>"
      ]
     },
     "metadata": {
      "needs_background": "light"
     },
     "output_type": "display_data"
    }
   ],
   "source": [
    "# Boxplot plot to check if there are any outliers in the 'Temperature' column \n",
    "plt.figure(figsize=(10,6))\n",
    "plt.boxplot(df['Unemployment_Rate'])\n",
    "plt.title(\"Boxplot for 'Unemployment_Rate' column\",fontsize=15)\n",
    "plt.show()  # no utliers found"
   ]
  },
  {
   "cell_type": "code",
   "execution_count": 28,
   "id": "49a31fff",
   "metadata": {},
   "outputs": [
    {
     "name": "stdout",
     "output_type": "stream",
     "text": [
      "Outliers for 'Unemployment_Rate' column are :  [13.975, 13.975, 13.975, 13.975, 13.975, 13.975, 13.975, 13.975, 14.099, 14.099, 14.099, 14.099, 14.099, 14.099, 14.099, 14.099, 14.099, 14.099, 14.099, 14.099, 14.099, 14.18, 14.18, 14.18, 14.18, 14.18, 14.18, 14.18, 14.18, 14.18, 14.18, 14.18, 14.18, 14.18, 14.313, 14.313, 14.313, 14.313, 14.313, 14.313, 14.313, 14.313, 14.313, 14.313, 14.313, 14.313, 14.313, 14.313, 14.021, 14.021, 14.021, 14.021, 14.021, 14.021, 14.021, 14.021, 14.021, 14.021, 14.021, 14.021, 13.736, 13.736, 13.736, 13.736, 13.736, 13.736, 13.736, 13.736, 13.736, 13.736, 13.736, 13.736, 13.736, 13.503, 13.503, 13.503, 13.503, 13.503, 13.503, 13.503, 13.503, 13.503, 13.503, 13.503, 13.503, 13.503, 13.503, 13.975, 13.975, 13.975, 13.975, 13.975, 13.975, 13.975, 13.975, 14.099, 14.099, 14.099, 14.099, 14.099, 14.099, 14.099, 14.099, 14.099, 14.099, 14.099, 14.099, 14.099, 14.18, 14.18, 14.18, 14.18, 14.18, 14.18, 14.18, 14.18, 14.18, 14.18, 14.18, 14.18, 14.18, 14.313, 14.313, 14.313, 14.313, 14.313, 14.313, 14.313, 14.313, 14.313, 14.313, 14.313, 14.313, 14.313, 14.313, 14.021, 14.021, 14.021, 14.021, 14.021, 14.021, 14.021, 14.021, 14.021, 14.021, 14.021, 14.021, 13.736, 13.736, 13.736, 13.736, 13.736, 13.736, 13.736, 13.736, 13.736, 13.736, 13.736, 13.736, 13.736, 13.503, 13.503, 13.503, 13.503, 13.503, 13.503, 13.503, 13.503, 13.503, 13.503, 13.503, 13.503, 13.503, 13.503, 13.975, 13.975, 13.975, 13.975, 13.975, 13.975, 13.975, 13.975, 14.099, 14.099, 14.099, 14.099, 14.099, 14.099, 14.099, 14.099, 14.099, 14.099, 14.099, 14.099, 14.099, 14.18, 14.18, 14.18, 14.18, 14.18, 14.18, 14.18, 14.18, 14.18, 14.18, 14.18, 14.18, 14.18, 14.313, 14.313, 14.313, 14.313, 14.313, 14.313, 14.313, 14.313, 14.313, 14.313, 14.313, 14.313, 14.313, 14.313, 14.021, 14.021, 14.021, 14.021, 14.021, 14.021, 14.021, 14.021, 14.021, 14.021, 14.021, 14.021, 13.736, 13.736, 13.736, 13.736, 13.736, 13.736, 13.736, 13.736, 13.736, 13.736, 13.736, 13.736, 13.736, 13.503, 13.503, 13.503, 13.503, 13.503, 13.503, 13.503, 13.503, 13.503, 13.503, 13.503, 13.503, 13.503, 13.503]\n"
     ]
    }
   ],
   "source": [
    "# Outliers in 'Unemployment_Rate' column\n",
    "outlier_data = detect_outlier(df['Unemployment_Rate'])\n",
    "print(\"Outliers for 'Unemployment_Rate' column are : \", outlier_data)"
   ]
  },
  {
   "cell_type": "markdown",
   "id": "113884e0",
   "metadata": {},
   "source": [
    "We are not going to remove these outliers, beacause the Unemployment_Rate might seems to be okay and it might goes to 14."
   ]
  },
  {
   "cell_type": "code",
   "execution_count": 29,
   "id": "e22b66ed",
   "metadata": {},
   "outputs": [
    {
     "data": {
      "image/png": "[encoded data removed]",
      "text/plain": [
       "<Figure size 720x432 with 1 Axes>"
      ]
     },
     "metadata": {
      "needs_background": "light"
     },
     "output_type": "display_data"
    }
   ],
   "source": [
    "# Boxplot to check if there are any outliers in the 'Size' column \n",
    "plt.figure(figsize=(10,6))\n",
    "plt.boxplot(df['Size'])\n",
    "plt.title(\"Boxplot for 'Size' column\",fontsize=15)\n",
    "plt.show()  # no utliers found"
   ]
  },
  {
   "cell_type": "code",
   "execution_count": 30,
   "id": "84f1957e",
   "metadata": {},
   "outputs": [
    {
     "data": {
      "image/png": "[encoded data removed]",
      "text/plain": [
       "<Figure size 720x432 with 1 Axes>"
      ]
     },
     "metadata": {
      "needs_background": "light"
     },
     "output_type": "display_data"
    }
   ],
   "source": [
    "# Boxplot to check if there are any outliers in the 'Total_markdown' column \n",
    "plt.figure(figsize=(10,6))\n",
    "plt.boxplot(df['Total_MarkDown'])\n",
    "plt.title(\"Boxplot for 'Total_MarkDown' column\",fontsize=15)\n",
    "plt.show()"
   ]
  },
  {
   "cell_type": "code",
   "execution_count": 31,
   "id": "d35ef67d",
   "metadata": {},
   "outputs": [
    {
     "name": "stdout",
     "output_type": "stream",
     "text": [
      "Outliers for 'Total_MarkDown' column are :  [76351.06999999999, 76311.31000000001, 98974.87, 80045.4, 105528.0, 134773.50999999998, 109611.15000000001, 73717.26, 117660.84, 93322.93, 82098.40000000001, 110681.95, 101118.65999999999, 110853.45, 73561.14000000001, 84794.95, 92849.95, 74133.28, 115281.12999999999, 67107.66, 66563.21, 106926.52000000002, 77418.75, 78684.32999999999, 143223.31, 117682.51999999999, 83583.57, 149976.71, 79820.62999999999, 119437.66, 73367.27, 96513.93000000001, 85532.16, 122659.41, 70708.06, 70669.22, 133315.06, 66720.95999999999, 101355.79, 115446.52, 75070.48000000001, 114565.27, 70523.39, 100916.17, 126999.28, 66448.95, 69704.73, 153504.44, 75974.07, 178693.13999999998, 91671.96, 83143.31, 67395.51, 143777.92, 66197.91, 108493.39, 116118.54, 67634.55, 78258.6, 67583.15000000001, 78646.05, 96601.45, 106255.08, 72758.08, 69881.05, 81094.48, 75210.07999999999, 101206.8, 93464.21999999999, 117920.3, 118242.04, 66982.93000000001, 69327.23, 151904.86000000002, 104110.89, 77843.59, 109430.24, 129826.79999999999, 67883.09, 142144.53, 76408.52000000002, 162215.21000000002, 129302.27, 77011.65, 68163.77, 160510.61000000002, 78509.26000000001, 117395.42000000001, 104793.96, 90430.76, 134270.43, 80046.29999999999, 132521.80000000002, 70826.98, 124063.01000000001, 85429.91, 134790.92, 90881.76999999999, 80531.81, 76205.91, 73920.90000000001, 74690.31999999999, 142563.99000000002, 71678.44, 68199.67, 105689.59000000001, 83854.23, 108645.33999999998, 66157.93, 104113.29000000001, 783529.45, 87218.07, 105268.55, 77651.58, 104368.52, 110646.09, 74378.05, 87176.4, 85667.88, 107592.2, 139280.71, 66304.31, 110659.29999999999, 89088.16, 90500.67000000001, 140569.99000000002, 82596.35, 68197.64, 102094.99, 91395.65999999999, 125536.02, 113752.52, 74552.97, 125001.4, 109556.21999999999, 91813.19, 75913.41, 115812.95, 82999.08, 70357.76000000001, 68273.42, 83589.44999999998, 99900.31999999999, 68113.75, 101378.85999999999, 138028.38, 83809.57, 74652.61999999998, 81978.85]\n"
     ]
    }
   ],
   "source": [
    "# Outliers in 'Total_markdown' column\n",
    "outlier_data = detect_outlier(df['Total_MarkDown'])\n",
    "print(\"Outliers for 'Total_MarkDown' column are : \", outlier_data)"
   ]
  },
  {
   "cell_type": "code",
   "execution_count": 32,
   "id": "9b251e27",
   "metadata": {},
   "outputs": [
    {
     "name": "stderr",
     "output_type": "stream",
     "text": [
      "C:\\Users\\Rohit Kumar (Prince)\\anaconda3\\lib\\site-packages\\seaborn\\distributions.py:2557: FutureWarning: `distplot` is a deprecated function and will be removed in a future version. Please adapt your code to use either `displot` (a figure-level function with similar flexibility) or `histplot` (an axes-level function for histograms).\n",
      "  warnings.warn(msg, FutureWarning)\n"
     ]
    },
    {
     "data": {
      "text/plain": [
       "Text(0.5, 1.0, 'The Total_MarkDown distributions')"
      ]
     },
     "execution_count": 32,
     "metadata": {},
     "output_type": "execute_result"
    },
    {
     "data": {
      "image/png": "[encoded data removed]",
      "text/plain": [
       "<Figure size 720x432 with 1 Axes>"
      ]
     },
     "metadata": {
      "needs_background": "light"
     },
     "output_type": "display_data"
    }
   ],
   "source": [
    "plt.figure(figsize=(10,6))\n",
    "sns.set_style(\"whitegrid\")\n",
    "sns.distplot(df['Total_MarkDown'])\n",
    "plt.xlabel('The Total_MarkDown',fontsize=15)\n",
    "plt.ylabel('count',fontsize=15)\n",
    "plt.title('The Total_MarkDown distributions',fontsize=20)"
   ]
  },
  {
   "cell_type": "markdown",
   "id": "a6bd417e",
   "metadata": {},
   "source": [
    "There appear to be a lot of positive outliers here as well, however this is not the case. Because the frequency of 0 \"Total markdown\" is so high, all other values are treated as outliers, as can be seen in the graph below."
   ]
  },
  {
   "cell_type": "code",
   "execution_count": 33,
   "id": "40d45155",
   "metadata": {},
   "outputs": [],
   "source": [
    "# Defining continuous and categorical columns and converting \"Total markdown\" column as high and low\n",
    "median_value = df.median()['Total_MarkDown']\n",
    "df['Total_MarkDown'] = np.where(df['Total_MarkDown'] > median_value , \"High\", \"Low\")"
   ]
  },
  {
   "cell_type": "code",
   "execution_count": 34,
   "id": "22525bab",
   "metadata": {},
   "outputs": [],
   "source": [
    "# Continuous variables and categorical variables\n",
    "Cont_cols = df[[\"Temperature\", \"Fuel_Price\", \"CPI\", \"Unemployment_Rate\", \"Total_Sales\", \"Size\"]]\n",
    "cat_cols = df[[\"Holiday\", \"Type\",\"Total_MarkDown\"]]"
   ]
  },
  {
   "cell_type": "markdown",
   "id": "68519497",
   "metadata": {},
   "source": [
    "## EDA (Exploratory Data Analysis) on the cleaned Data\n",
    "\n",
    "### Univariate analysis"
   ]
  },
  {
   "cell_type": "code",
   "execution_count": 35,
   "id": "30d2fc2b",
   "metadata": {},
   "outputs": [
    {
     "name": "stderr",
     "output_type": "stream",
     "text": [
      "C:\\Users\\Rohit Kumar (Prince)\\anaconda3\\lib\\site-packages\\seaborn\\distributions.py:2557: FutureWarning: `distplot` is a deprecated function and will be removed in a future version. Please adapt your code to use either `displot` (a figure-level function with similar flexibility) or `histplot` (an axes-level function for histograms).\n",
      "  warnings.warn(msg, FutureWarning)\n"
     ]
    },
    {
     "data": {
      "text/plain": [
       "Text(0.5, 1.0, 'The Total sales distributions')"
      ]
     },
     "execution_count": 35,
     "metadata": {},
     "output_type": "execute_result"
    },
    {
     "data": {
      "image/png": "[encoded data removed]",
      "text/plain": [
       "<Figure size 720x432 with 1 Axes>"
      ]
     },
     "metadata": {},
     "output_type": "display_data"
    }
   ],
   "source": [
    "# Univariate analysis of column Total_Sales\n",
    "plt.figure(figsize=(10,6))\n",
    "sns.set_style(\"whitegrid\")\n",
    "sns.distplot(df['Total_Sales'])\n",
    "plt.xlabel('The Total sales',fontsize=15)\n",
    "plt.ylabel('count',fontsize=15)\n",
    "plt.title('The Total sales distributions',fontsize=20)"
   ]
  },
  {
   "cell_type": "code",
   "execution_count": 36,
   "id": "c5dd7a7c",
   "metadata": {},
   "outputs": [
    {
     "name": "stderr",
     "output_type": "stream",
     "text": [
      "C:\\Users\\Rohit Kumar (Prince)\\anaconda3\\lib\\site-packages\\seaborn\\distributions.py:2557: FutureWarning: `distplot` is a deprecated function and will be removed in a future version. Please adapt your code to use either `displot` (a figure-level function with similar flexibility) or `histplot` (an axes-level function for histograms).\n",
      "  warnings.warn(msg, FutureWarning)\n"
     ]
    },
    {
     "data": {
      "text/plain": [
       "Text(0.5, 1.0, 'The Distribution of Temperature')"
      ]
     },
     "execution_count": 36,
     "metadata": {},
     "output_type": "execute_result"
    },
    {
     "data": {
      "image/png": "[encoded data removed]",
      "text/plain": [
       "<Figure size 720x432 with 1 Axes>"
      ]
     },
     "metadata": {},
     "output_type": "display_data"
    }
   ],
   "source": [
    "# Univariate analysis of column Temperature\n",
    "plt.figure(figsize=(10,6))\n",
    "sns.set_style(\"whitegrid\")\n",
    "sns.distplot(df['Temperature'])\n",
    "plt.xlabel('Temperature',fontsize=20)\n",
    "plt.ylabel('count',fontsize=20)\n",
    "plt.title('The Distribution of Temperature',fontsize=20)"
   ]
  },
  {
   "cell_type": "code",
   "execution_count": 37,
   "id": "51dc639a",
   "metadata": {},
   "outputs": [
    {
     "name": "stderr",
     "output_type": "stream",
     "text": [
      "C:\\Users\\Rohit Kumar (Prince)\\anaconda3\\lib\\site-packages\\seaborn\\distributions.py:2557: FutureWarning: `distplot` is a deprecated function and will be removed in a future version. Please adapt your code to use either `displot` (a figure-level function with similar flexibility) or `histplot` (an axes-level function for histograms).\n",
      "  warnings.warn(msg, FutureWarning)\n"
     ]
    },
    {
     "data": {
      "text/plain": [
       "Text(0.5, 1.0, 'The Distribution of CPI')"
      ]
     },
     "execution_count": 37,
     "metadata": {},
     "output_type": "execute_result"
    },
    {
     "data": {
      "image/png": "[encoded data removed]",
      "text/plain": [
       "<Figure size 720x432 with 1 Axes>"
      ]
     },
     "metadata": {},
     "output_type": "display_data"
    }
   ],
   "source": [
    "# Univariate analysis of column Temperature\n",
    "plt.figure(figsize=(10,6))\n",
    "sns.set_style(\"whitegrid\")\n",
    "sns.distplot(df['CPI'])\n",
    "plt.xlabel('CPI',fontsize=20)\n",
    "plt.ylabel('count',fontsize=20)\n",
    "plt.title('The Distribution of CPI',fontsize=20)"
   ]
  },
  {
   "cell_type": "code",
   "execution_count": 38,
   "id": "e4356048",
   "metadata": {},
   "outputs": [
    {
     "name": "stderr",
     "output_type": "stream",
     "text": [
      "C:\\Users\\Rohit Kumar (Prince)\\anaconda3\\lib\\site-packages\\seaborn\\_decorators.py:36: FutureWarning: Pass the following variable as a keyword arg: x. From version 0.12, the only valid positional argument will be `data`, and passing other arguments without an explicit keyword will result in an error or misinterpretation.\n",
      "  warnings.warn(\n"
     ]
    },
    {
     "data": {
      "text/plain": [
       "Text(0.5, 1.0, 'Number of Holidays')"
      ]
     },
     "execution_count": 38,
     "metadata": {},
     "output_type": "execute_result"
    },
    {
     "data": {
      "image/png": "[encoded data removed]",
      "text/plain": [
       "<Figure size 432x432 with 1 Axes>"
      ]
     },
     "metadata": {},
     "output_type": "display_data"
    }
   ],
   "source": [
    "plt.figure(figsize=(6,6))\n",
    "sns.countplot(df['Holiday'])\n",
    "plt.xlabel('Holiday',fontsize=20)\n",
    "plt.ylabel('count',fontsize=20)\n",
    "plt.title('Number of Holidays',fontsize=20)"
   ]
  },
  {
   "cell_type": "code",
   "execution_count": 39,
   "id": "8e2e5c88",
   "metadata": {},
   "outputs": [
    {
     "name": "stderr",
     "output_type": "stream",
     "text": [
      "C:\\Users\\Rohit Kumar (Prince)\\anaconda3\\lib\\site-packages\\seaborn\\_decorators.py:36: FutureWarning: Pass the following variable as a keyword arg: x. From version 0.12, the only valid positional argument will be `data`, and passing other arguments without an explicit keyword will result in an error or misinterpretation.\n",
      "  warnings.warn(\n"
     ]
    },
    {
     "data": {
      "text/plain": [
       "Text(0.5, 1.0, 'Number of Type')"
      ]
     },
     "execution_count": 39,
     "metadata": {},
     "output_type": "execute_result"
    },
    {
     "data": {
      "image/png": "[encoded data removed]",
      "text/plain": [
       "<Figure size 720x432 with 1 Axes>"
      ]
     },
     "metadata": {},
     "output_type": "display_data"
    }
   ],
   "source": [
    "plt.figure(figsize=(10,6))\n",
    "sns.countplot(df['Type'])\n",
    "plt.xlabel('Type',fontsize=20)\n",
    "plt.ylabel('count',fontsize=20)\n",
    "plt.title('Number of Type',fontsize=20)"
   ]
  },
  {
   "cell_type": "code",
   "execution_count": 40,
   "id": "9a200a98",
   "metadata": {},
   "outputs": [
    {
     "name": "stderr",
     "output_type": "stream",
     "text": [
      "C:\\Users\\Rohit Kumar (Prince)\\anaconda3\\lib\\site-packages\\seaborn\\_decorators.py:36: FutureWarning: Pass the following variable as a keyword arg: x. From version 0.12, the only valid positional argument will be `data`, and passing other arguments without an explicit keyword will result in an error or misinterpretation.\n",
      "  warnings.warn(\n"
     ]
    },
    {
     "data": {
      "text/plain": [
       "<AxesSubplot:xlabel='weeknumber', ylabel='count'>"
      ]
     },
     "execution_count": 40,
     "metadata": {},
     "output_type": "execute_result"
    },
    {
     "data": {
      "image/png": "[encoded data removed]",
      "text/plain": [
       "<Figure size 1080x432 with 1 Axes>"
      ]
     },
     "metadata": {},
     "output_type": "display_data"
    }
   ],
   "source": [
    "plt.figure(figsize=(15,6))\n",
    "plt.xticks(rotation=90)\n",
    "sns.countplot(df.weeknumber)"
   ]
  },
  {
   "cell_type": "markdown",
   "id": "f4e52068",
   "metadata": {},
   "source": [
    "### Bivariate analysis"
   ]
  },
  {
   "cell_type": "code",
   "execution_count": 41,
   "id": "2893840e",
   "metadata": {},
   "outputs": [
    {
     "data": {
      "text/plain": [
       "Text(0.5, 1.0, 'Number of Holidays')"
      ]
     },
     "execution_count": 41,
     "metadata": {},
     "output_type": "execute_result"
    },
    {
     "data": {
      "image/png": "[encoded data removed]",
      "text/plain": [
       "<Figure size 576x576 with 1 Axes>"
      ]
     },
     "metadata": {},
     "output_type": "display_data"
    }
   ],
   "source": [
    "# Holidays and sales \n",
    "plt.figure(figsize=(8,8))\n",
    "sns.boxplot(x='Holiday',y='Total_Sales',data=df)\n",
    "plt.xlabel('Holiday',fontsize=20)\n",
    "plt.ylabel('count',fontsize=20)\n",
    "plt.title('Number of Holidays',fontsize=20)"
   ]
  },
  {
   "cell_type": "markdown",
   "id": "19727a11",
   "metadata": {},
   "source": [
    "By looking at above graph we conclude that there is more sales during the Holidays. It means that poeple prefer to do shopping during the holidays. So during the holidays we would recommended to give some good offer to attract the customers."
   ]
  },
  {
   "cell_type": "code",
   "execution_count": 42,
   "id": "08704c33",
   "metadata": {},
   "outputs": [
    {
     "data": {
      "text/plain": [
       "Text(0.5, 1.0, 'Number of Total_MarkDown')"
      ]
     },
     "execution_count": 42,
     "metadata": {},
     "output_type": "execute_result"
    },
    {
     "data": {
      "image/png": "[encoded data removed]",
      "text/plain": [
       "<Figure size 576x576 with 1 Axes>"
      ]
     },
     "metadata": {},
     "output_type": "display_data"
    }
   ],
   "source": [
    "#  and sales \n",
    "plt.figure(figsize=(8,8))\n",
    "sns.boxplot(x='Total_MarkDown',y='Total_Sales',data=df)\n",
    "plt.xlabel('Total_MarkDown',fontsize=20)\n",
    "plt.ylabel('count',fontsize=20)\n",
    "plt.title('Number of Total_MarkDown',fontsize=20)"
   ]
  },
  {
   "cell_type": "code",
   "execution_count": 43,
   "id": "6be68cf0",
   "metadata": {},
   "outputs": [
    {
     "data": {
      "image/png": "[encoded data removed]",
      "text/plain": [
       "<Figure size 1080x864 with 5 Axes>"
      ]
     },
     "metadata": {},
     "output_type": "display_data"
    }
   ],
   "source": [
    "# Code for creating scatter plot for continuous variables \n",
    "plt.figure(figsize = (15,12))\n",
    "cols = [\"Temperature\", \"CPI\", \"Unemployment_Rate\", \"Size\",\"Fuel_Price\"]\n",
    "s = 1\n",
    "for r in range(len(cols)):\n",
    "  plt.subplot(2,3,s)\n",
    "  s = s + 1\n",
    "  sns.regplot(x = cols[r], y = 'Total_Sales', data = df, fit_reg=True)\n",
    "  plt.title(\"Total_Sales VS \" + cols[r], fontsize = 10)"
   ]
  },
  {
   "cell_type": "markdown",
   "id": "fa9280eb",
   "metadata": {},
   "source": [
    "### Features selection\n",
    "- Correlation\n",
    "- SelectKBest (ANOVA )\n",
    "- Features Importance"
   ]
  },
  {
   "cell_type": "code",
   "execution_count": 44,
   "id": "ef959a1c",
   "metadata": {},
   "outputs": [],
   "source": [
    "# Continuous variables and categorical variables\n",
    "Cont_cols = df[[\"Temperature\", \"Fuel_Price\", \"CPI\", \"Unemployment_Rate\", \"Total_Sales\", \"Size\"]]\n",
    "cat_cols = df[[\"Holiday\", \"Type\",\"Total_MarkDown\"]]"
   ]
  },
  {
   "cell_type": "code",
   "execution_count": 45,
   "id": "99b4a994",
   "metadata": {},
   "outputs": [
    {
     "data": {
      "text/html": [
       "<div>\n",
       "<style scoped>\n",
       "    .dataframe tbody tr th:only-of-type {\n",
       "        vertical-align: middle;\n",
       "    }\n",
       "\n",
       "    .dataframe tbody tr th {\n",
       "        vertical-align: top;\n",
       "    }\n",
       "\n",
       "    .dataframe thead th {\n",
       "        text-align: right;\n",
       "    }\n",
       "</style>\n",
       "<table border=\"1\" class=\"dataframe\">\n",
       "  <thead>\n",
       "    <tr style=\"text-align: right;\">\n",
       "      <th></th>\n",
       "      <th>Temperature</th>\n",
       "      <th>Fuel_Price</th>\n",
       "      <th>CPI</th>\n",
       "      <th>Unemployment_Rate</th>\n",
       "      <th>Total_Sales</th>\n",
       "      <th>Size</th>\n",
       "    </tr>\n",
       "  </thead>\n",
       "  <tbody>\n",
       "    <tr>\n",
       "      <th>Temperature</th>\n",
       "      <td>1.000000</td>\n",
       "      <td>0.101416</td>\n",
       "      <td>0.158765</td>\n",
       "      <td>0.145653</td>\n",
       "      <td>-0.085423</td>\n",
       "      <td>-0.093383</td>\n",
       "    </tr>\n",
       "    <tr>\n",
       "      <th>Fuel_Price</th>\n",
       "      <td>0.101416</td>\n",
       "      <td>1.000000</td>\n",
       "      <td>-0.184169</td>\n",
       "      <td>-0.032907</td>\n",
       "      <td>-0.002804</td>\n",
       "      <td>0.015077</td>\n",
       "    </tr>\n",
       "    <tr>\n",
       "      <th>CPI</th>\n",
       "      <td>0.158765</td>\n",
       "      <td>-0.184169</td>\n",
       "      <td>1.000000</td>\n",
       "      <td>-0.302919</td>\n",
       "      <td>-0.070087</td>\n",
       "      <td>-0.008955</td>\n",
       "    </tr>\n",
       "    <tr>\n",
       "      <th>Unemployment_Rate</th>\n",
       "      <td>0.145653</td>\n",
       "      <td>-0.032907</td>\n",
       "      <td>-0.302919</td>\n",
       "      <td>1.000000</td>\n",
       "      <td>-0.107199</td>\n",
       "      <td>-0.073715</td>\n",
       "    </tr>\n",
       "    <tr>\n",
       "      <th>Total_Sales</th>\n",
       "      <td>-0.085423</td>\n",
       "      <td>-0.002804</td>\n",
       "      <td>-0.070087</td>\n",
       "      <td>-0.107199</td>\n",
       "      <td>1.000000</td>\n",
       "      <td>0.795552</td>\n",
       "    </tr>\n",
       "    <tr>\n",
       "      <th>Size</th>\n",
       "      <td>-0.093383</td>\n",
       "      <td>0.015077</td>\n",
       "      <td>-0.008955</td>\n",
       "      <td>-0.073715</td>\n",
       "      <td>0.795552</td>\n",
       "      <td>1.000000</td>\n",
       "    </tr>\n",
       "  </tbody>\n",
       "</table>\n",
       "</div>"
      ],
      "text/plain": [
       "                   Temperature  Fuel_Price       CPI  Unemployment_Rate  \\\n",
       "Temperature           1.000000    0.101416  0.158765           0.145653   \n",
       "Fuel_Price            0.101416    1.000000 -0.184169          -0.032907   \n",
       "CPI                   0.158765   -0.184169  1.000000          -0.302919   \n",
       "Unemployment_Rate     0.145653   -0.032907 -0.302919           1.000000   \n",
       "Total_Sales          -0.085423   -0.002804 -0.070087          -0.107199   \n",
       "Size                 -0.093383    0.015077 -0.008955          -0.073715   \n",
       "\n",
       "                   Total_Sales      Size  \n",
       "Temperature          -0.085423 -0.093383  \n",
       "Fuel_Price           -0.002804  0.015077  \n",
       "CPI                  -0.070087 -0.008955  \n",
       "Unemployment_Rate    -0.107199 -0.073715  \n",
       "Total_Sales           1.000000  0.795552  \n",
       "Size                  0.795552  1.000000  "
      ]
     },
     "execution_count": 45,
     "metadata": {},
     "output_type": "execute_result"
    }
   ],
   "source": [
    "Cont_cols.corr()"
   ]
  },
  {
   "cell_type": "code",
   "execution_count": 46,
   "id": "06eb50ae",
   "metadata": {},
   "outputs": [
    {
     "data": {
      "text/plain": [
       "<AxesSubplot:>"
      ]
     },
     "execution_count": 46,
     "metadata": {},
     "output_type": "execute_result"
    },
    {
     "data": {
      "image/png": "[encoded data removed]",
      "text/plain": [
       "<Figure size 720x576 with 2 Axes>"
      ]
     },
     "metadata": {},
     "output_type": "display_data"
    }
   ],
   "source": [
    "# Heatmap\n",
    "plt.figure(figsize=(10,8))\n",
    "sns.heatmap(Cont_cols.corr(),annot = True, cmap = \"RdYlGn\")"
   ]
  },
  {
   "cell_type": "markdown",
   "id": "c255a2c0",
   "metadata": {},
   "source": [
    "- sales vs Temeprature---> Weak correlation\n",
    "- sales vs fuel_price---> No correlation\n",
    "- sales vs CPI---> Weak correlation\n",
    "- sales vs unemployment_rate---> Weak correlation\n",
    "- sales vs size--->strong positive correlation"
   ]
  },
  {
   "cell_type": "code",
   "execution_count": 47,
   "id": "9114131e",
   "metadata": {},
   "outputs": [],
   "source": [
    "#Removing correlated features\n",
    "Threshold=0.9"
   ]
  },
  {
   "cell_type": "code",
   "execution_count": 48,
   "id": "7ccefb72",
   "metadata": {},
   "outputs": [],
   "source": [
    "# find and remove correlated features\n",
    "def correlation(dataset, threshold):\n",
    "    col_corr = set()  # Set of all the names of correlated columns\n",
    "    corr_matrix = dataset.corr()\n",
    "    for i in range(len(corr_matrix.columns)):\n",
    "        for j in range(i):\n",
    "            if abs(corr_matrix.iloc[i, j]) > threshold: # we are interested in absolute coeff value\n",
    "                colname = corr_matrix.columns[i]  # getting the name of column\n",
    "                col_corr.add(colname)\n",
    "    return col_corr"
   ]
  },
  {
   "cell_type": "code",
   "execution_count": 49,
   "id": "796e1e70",
   "metadata": {},
   "outputs": [
    {
     "data": {
      "text/plain": [
       "set()"
      ]
     },
     "execution_count": 49,
     "metadata": {},
     "output_type": "execute_result"
    }
   ],
   "source": [
    "correlation(Cont_cols,Threshold)"
   ]
  },
  {
   "cell_type": "markdown",
   "id": "c83e474f",
   "metadata": {},
   "source": [
    "**From correlation we conclude that the none of independent features are highly correlated, so there is no multicollinarity**"
   ]
  },
  {
   "cell_type": "code",
   "execution_count": 50,
   "id": "dd97276f",
   "metadata": {},
   "outputs": [],
   "source": [
    "# We will remove fuel price \n",
    "df.drop('Fuel_Price',axis=1,inplace=True)"
   ]
  },
  {
   "cell_type": "markdown",
   "id": "0698fc1a",
   "metadata": {},
   "source": [
    "### Anova\n",
    "Since our dependent variable is continuous(\"Total_Sales\") and independents are both categorical as well as continuous so to \n",
    "\n",
    "- continous vs continous -----> correlation\n",
    "- categorical vs contnoius----> ANOVA\n",
    "\n",
    "In ANOVA test, we will find the p value and then we will try to reject or accept the null hypothesis to find whether the independent variable is correlated with the dependent variable or not.\n",
    "\n",
    "- Null: Independent and dependent variables are non-correlated.\n",
    "\n",
    "- Alternate: Independent and dependent variables are correlated.\n",
    "\n",
    "If p<0.05, we will reject null hypothesis"
   ]
  },
  {
   "cell_type": "code",
   "execution_count": 51,
   "id": "20faacc2",
   "metadata": {},
   "outputs": [
    {
     "name": "stdout",
     "output_type": "stream",
     "text": [
      "Anova test results for Holiday\n",
      "              df        sum_sq       mean_sq          F    PR(>F)\n",
      "Holiday      1.0  4.361665e+12  4.361665e+12  13.368263  0.000259\n",
      "Residual  3778.0  1.232649e+15  3.262701e+11        NaN       NaN\n",
      "################################################\n",
      "\n",
      "Anova test results for Type\n",
      "              df        sum_sq       mean_sq            F  PR(>F)\n",
      "Type         2.0  4.301251e+14  2.150626e+14  1006.700088     0.0\n",
      "Residual  3777.0  8.068851e+14  2.136312e+11          NaN     NaN\n",
      "################################################\n",
      "\n",
      "Anova test results for Total_MarkDown\n",
      "                    df        sum_sq       mean_sq         F   PR(>F)\n",
      "Total_MarkDown     1.0  1.035733e+12  1.035733e+12  3.165921  0.07527\n",
      "Residual        3778.0  1.235975e+15  3.271505e+11       NaN      NaN\n",
      "################################################\n",
      "\n"
     ]
    }
   ],
   "source": [
    "# ANOVA test\n",
    "import statsmodels.api as sm\n",
    "from statsmodels.formula.api import ols\n",
    "\n",
    "\n",
    "for col in cat_cols:\n",
    "    model = ols('Total_Sales' + '~' + col, data = df).fit() # Oridnary least square method\n",
    "    result_anova = sm.stats.anova_lm(model) # ANOVA Test\n",
    "    print(\"Anova test results for\", col)\n",
    "    print(result_anova)\n",
    "    print(\"################################################\\n\")"
   ]
  },
  {
   "cell_type": "markdown",
   "id": "a80c6f4b",
   "metadata": {},
   "source": [
    "Since pvalue<0.05, we will not reject the null hypothesis"
   ]
  },
  {
   "cell_type": "markdown",
   "id": "0514e0a4",
   "metadata": {},
   "source": [
    "### Feature Engineering\n",
    "- One hot encoding ----> nominal data\n",
    "- label encoding -----> ordinal data"
   ]
  },
  {
   "cell_type": "code",
   "execution_count": 52,
   "id": "1990bf20",
   "metadata": {},
   "outputs": [
    {
     "data": {
      "text/html": [
       "<div>\n",
       "<style scoped>\n",
       "    .dataframe tbody tr th:only-of-type {\n",
       "        vertical-align: middle;\n",
       "    }\n",
       "\n",
       "    .dataframe tbody tr th {\n",
       "        vertical-align: top;\n",
       "    }\n",
       "\n",
       "    .dataframe thead th {\n",
       "        text-align: right;\n",
       "    }\n",
       "</style>\n",
       "<table border=\"1\" class=\"dataframe\">\n",
       "  <thead>\n",
       "    <tr style=\"text-align: right;\">\n",
       "      <th></th>\n",
       "      <th>Temperature</th>\n",
       "      <th>CPI</th>\n",
       "      <th>Unemployment_Rate</th>\n",
       "      <th>Holiday</th>\n",
       "      <th>Total_Sales</th>\n",
       "      <th>Type</th>\n",
       "      <th>Size</th>\n",
       "      <th>weeknumber</th>\n",
       "      <th>Total_MarkDown</th>\n",
       "    </tr>\n",
       "  </thead>\n",
       "  <tbody>\n",
       "    <tr>\n",
       "      <th>0</th>\n",
       "      <td>42.31</td>\n",
       "      <td>211.096358</td>\n",
       "      <td>8.106</td>\n",
       "      <td>No</td>\n",
       "      <td>1643690.90</td>\n",
       "      <td>E-Commerce Fulfillment</td>\n",
       "      <td>151315</td>\n",
       "      <td>17</td>\n",
       "      <td>Low</td>\n",
       "    </tr>\n",
       "    <tr>\n",
       "      <th>1</th>\n",
       "      <td>38.51</td>\n",
       "      <td>211.242170</td>\n",
       "      <td>8.106</td>\n",
       "      <td>Yes</td>\n",
       "      <td>1641957.44</td>\n",
       "      <td>E-Commerce Fulfillment</td>\n",
       "      <td>151315</td>\n",
       "      <td>48</td>\n",
       "      <td>Low</td>\n",
       "    </tr>\n",
       "    <tr>\n",
       "      <th>2</th>\n",
       "      <td>39.93</td>\n",
       "      <td>211.289143</td>\n",
       "      <td>8.106</td>\n",
       "      <td>No</td>\n",
       "      <td>1611968.17</td>\n",
       "      <td>E-Commerce Fulfillment</td>\n",
       "      <td>151315</td>\n",
       "      <td>7</td>\n",
       "      <td>Low</td>\n",
       "    </tr>\n",
       "    <tr>\n",
       "      <th>3</th>\n",
       "      <td>46.63</td>\n",
       "      <td>211.319643</td>\n",
       "      <td>8.106</td>\n",
       "      <td>No</td>\n",
       "      <td>1409727.59</td>\n",
       "      <td>E-Commerce Fulfillment</td>\n",
       "      <td>151315</td>\n",
       "      <td>8</td>\n",
       "      <td>Low</td>\n",
       "    </tr>\n",
       "    <tr>\n",
       "      <th>4</th>\n",
       "      <td>46.50</td>\n",
       "      <td>211.350143</td>\n",
       "      <td>8.106</td>\n",
       "      <td>No</td>\n",
       "      <td>NaN</td>\n",
       "      <td>E-Commerce Fulfillment</td>\n",
       "      <td>151315</td>\n",
       "      <td>18</td>\n",
       "      <td>Low</td>\n",
       "    </tr>\n",
       "  </tbody>\n",
       "</table>\n",
       "</div>"
      ],
      "text/plain": [
       "   Temperature         CPI  Unemployment_Rate Holiday  Total_Sales  \\\n",
       "0        42.31  211.096358              8.106      No   1643690.90   \n",
       "1        38.51  211.242170              8.106     Yes   1641957.44   \n",
       "2        39.93  211.289143              8.106      No   1611968.17   \n",
       "3        46.63  211.319643              8.106      No   1409727.59   \n",
       "4        46.50  211.350143              8.106      No          NaN   \n",
       "\n",
       "                     Type    Size  weeknumber Total_MarkDown  \n",
       "0  E-Commerce Fulfillment  151315          17            Low  \n",
       "1  E-Commerce Fulfillment  151315          48            Low  \n",
       "2  E-Commerce Fulfillment  151315           7            Low  \n",
       "3  E-Commerce Fulfillment  151315           8            Low  \n",
       "4  E-Commerce Fulfillment  151315          18            Low  "
      ]
     },
     "execution_count": 52,
     "metadata": {},
     "output_type": "execute_result"
    }
   ],
   "source": [
    "df.head()"
   ]
  },
  {
   "cell_type": "code",
   "execution_count": 53,
   "id": "b462b9c6",
   "metadata": {},
   "outputs": [],
   "source": [
    "# Label encoding \n",
    "df['Holiday'].replace({\"Yes\":1,\"No\":0},inplace=True)\n",
    "df['Total_MarkDown'].replace({\"High\" : 1, \"Low\" : 0}, inplace = True)\n"
   ]
  },
  {
   "cell_type": "code",
   "execution_count": 54,
   "id": "7135ff8c",
   "metadata": {},
   "outputs": [],
   "source": [
    "#One hot encoding\n",
    "Types= pd.get_dummies(df['Type'],drop_first=True)"
   ]
  },
  {
   "cell_type": "code",
   "execution_count": 55,
   "id": "ea293c8c",
   "metadata": {},
   "outputs": [
    {
     "data": {
      "text/html": [
       "<div>\n",
       "<style scoped>\n",
       "    .dataframe tbody tr th:only-of-type {\n",
       "        vertical-align: middle;\n",
       "    }\n",
       "\n",
       "    .dataframe tbody tr th {\n",
       "        vertical-align: top;\n",
       "    }\n",
       "\n",
       "    .dataframe thead th {\n",
       "        text-align: right;\n",
       "    }\n",
       "</style>\n",
       "<table border=\"1\" class=\"dataframe\">\n",
       "  <thead>\n",
       "    <tr style=\"text-align: right;\">\n",
       "      <th></th>\n",
       "      <th>Temperature</th>\n",
       "      <th>CPI</th>\n",
       "      <th>Unemployment_Rate</th>\n",
       "      <th>Holiday</th>\n",
       "      <th>Total_Sales</th>\n",
       "      <th>Type</th>\n",
       "      <th>Size</th>\n",
       "      <th>weeknumber</th>\n",
       "      <th>Total_MarkDown</th>\n",
       "      <th>Food</th>\n",
       "      <th>Regional</th>\n",
       "    </tr>\n",
       "  </thead>\n",
       "  <tbody>\n",
       "    <tr>\n",
       "      <th>0</th>\n",
       "      <td>42.31</td>\n",
       "      <td>211.096358</td>\n",
       "      <td>8.106</td>\n",
       "      <td>0</td>\n",
       "      <td>1643690.90</td>\n",
       "      <td>E-Commerce Fulfillment</td>\n",
       "      <td>151315</td>\n",
       "      <td>17</td>\n",
       "      <td>0</td>\n",
       "      <td>0</td>\n",
       "      <td>0</td>\n",
       "    </tr>\n",
       "    <tr>\n",
       "      <th>1</th>\n",
       "      <td>38.51</td>\n",
       "      <td>211.242170</td>\n",
       "      <td>8.106</td>\n",
       "      <td>1</td>\n",
       "      <td>1641957.44</td>\n",
       "      <td>E-Commerce Fulfillment</td>\n",
       "      <td>151315</td>\n",
       "      <td>48</td>\n",
       "      <td>0</td>\n",
       "      <td>0</td>\n",
       "      <td>0</td>\n",
       "    </tr>\n",
       "    <tr>\n",
       "      <th>2</th>\n",
       "      <td>39.93</td>\n",
       "      <td>211.289143</td>\n",
       "      <td>8.106</td>\n",
       "      <td>0</td>\n",
       "      <td>1611968.17</td>\n",
       "      <td>E-Commerce Fulfillment</td>\n",
       "      <td>151315</td>\n",
       "      <td>7</td>\n",
       "      <td>0</td>\n",
       "      <td>0</td>\n",
       "      <td>0</td>\n",
       "    </tr>\n",
       "    <tr>\n",
       "      <th>3</th>\n",
       "      <td>46.63</td>\n",
       "      <td>211.319643</td>\n",
       "      <td>8.106</td>\n",
       "      <td>0</td>\n",
       "      <td>1409727.59</td>\n",
       "      <td>E-Commerce Fulfillment</td>\n",
       "      <td>151315</td>\n",
       "      <td>8</td>\n",
       "      <td>0</td>\n",
       "      <td>0</td>\n",
       "      <td>0</td>\n",
       "    </tr>\n",
       "    <tr>\n",
       "      <th>4</th>\n",
       "      <td>46.50</td>\n",
       "      <td>211.350143</td>\n",
       "      <td>8.106</td>\n",
       "      <td>0</td>\n",
       "      <td>NaN</td>\n",
       "      <td>E-Commerce Fulfillment</td>\n",
       "      <td>151315</td>\n",
       "      <td>18</td>\n",
       "      <td>0</td>\n",
       "      <td>0</td>\n",
       "      <td>0</td>\n",
       "    </tr>\n",
       "  </tbody>\n",
       "</table>\n",
       "</div>"
      ],
      "text/plain": [
       "   Temperature         CPI  Unemployment_Rate  Holiday  Total_Sales  \\\n",
       "0        42.31  211.096358              8.106        0   1643690.90   \n",
       "1        38.51  211.242170              8.106        1   1641957.44   \n",
       "2        39.93  211.289143              8.106        0   1611968.17   \n",
       "3        46.63  211.319643              8.106        0   1409727.59   \n",
       "4        46.50  211.350143              8.106        0          NaN   \n",
       "\n",
       "                     Type    Size  weeknumber  Total_MarkDown  Food  Regional  \n",
       "0  E-Commerce Fulfillment  151315          17               0     0         0  \n",
       "1  E-Commerce Fulfillment  151315          48               0     0         0  \n",
       "2  E-Commerce Fulfillment  151315           7               0     0         0  \n",
       "3  E-Commerce Fulfillment  151315           8               0     0         0  \n",
       "4  E-Commerce Fulfillment  151315          18               0     0         0  "
      ]
     },
     "execution_count": 55,
     "metadata": {},
     "output_type": "execute_result"
    }
   ],
   "source": [
    "# Now we will concate the type \n",
    "df= pd.concat([df,Types],axis=1)\n",
    "df.head()"
   ]
  },
  {
   "cell_type": "code",
   "execution_count": 56,
   "id": "32a28183",
   "metadata": {},
   "outputs": [
    {
     "data": {
      "text/html": [
       "<div>\n",
       "<style scoped>\n",
       "    .dataframe tbody tr th:only-of-type {\n",
       "        vertical-align: middle;\n",
       "    }\n",
       "\n",
       "    .dataframe tbody tr th {\n",
       "        vertical-align: top;\n",
       "    }\n",
       "\n",
       "    .dataframe thead th {\n",
       "        text-align: right;\n",
       "    }\n",
       "</style>\n",
       "<table border=\"1\" class=\"dataframe\">\n",
       "  <thead>\n",
       "    <tr style=\"text-align: right;\">\n",
       "      <th></th>\n",
       "      <th>Temperature</th>\n",
       "      <th>CPI</th>\n",
       "      <th>Unemployment_Rate</th>\n",
       "      <th>Holiday</th>\n",
       "      <th>Total_Sales</th>\n",
       "      <th>Size</th>\n",
       "      <th>weeknumber</th>\n",
       "      <th>Total_MarkDown</th>\n",
       "      <th>Food</th>\n",
       "      <th>Regional</th>\n",
       "    </tr>\n",
       "  </thead>\n",
       "  <tbody>\n",
       "    <tr>\n",
       "      <th>0</th>\n",
       "      <td>42.31</td>\n",
       "      <td>211.096358</td>\n",
       "      <td>8.106</td>\n",
       "      <td>0</td>\n",
       "      <td>1643690.90</td>\n",
       "      <td>151315</td>\n",
       "      <td>17</td>\n",
       "      <td>0</td>\n",
       "      <td>0</td>\n",
       "      <td>0</td>\n",
       "    </tr>\n",
       "    <tr>\n",
       "      <th>1</th>\n",
       "      <td>38.51</td>\n",
       "      <td>211.242170</td>\n",
       "      <td>8.106</td>\n",
       "      <td>1</td>\n",
       "      <td>1641957.44</td>\n",
       "      <td>151315</td>\n",
       "      <td>48</td>\n",
       "      <td>0</td>\n",
       "      <td>0</td>\n",
       "      <td>0</td>\n",
       "    </tr>\n",
       "    <tr>\n",
       "      <th>2</th>\n",
       "      <td>39.93</td>\n",
       "      <td>211.289143</td>\n",
       "      <td>8.106</td>\n",
       "      <td>0</td>\n",
       "      <td>1611968.17</td>\n",
       "      <td>151315</td>\n",
       "      <td>7</td>\n",
       "      <td>0</td>\n",
       "      <td>0</td>\n",
       "      <td>0</td>\n",
       "    </tr>\n",
       "    <tr>\n",
       "      <th>3</th>\n",
       "      <td>46.63</td>\n",
       "      <td>211.319643</td>\n",
       "      <td>8.106</td>\n",
       "      <td>0</td>\n",
       "      <td>1409727.59</td>\n",
       "      <td>151315</td>\n",
       "      <td>8</td>\n",
       "      <td>0</td>\n",
       "      <td>0</td>\n",
       "      <td>0</td>\n",
       "    </tr>\n",
       "    <tr>\n",
       "      <th>4</th>\n",
       "      <td>46.50</td>\n",
       "      <td>211.350143</td>\n",
       "      <td>8.106</td>\n",
       "      <td>0</td>\n",
       "      <td>NaN</td>\n",
       "      <td>151315</td>\n",
       "      <td>18</td>\n",
       "      <td>0</td>\n",
       "      <td>0</td>\n",
       "      <td>0</td>\n",
       "    </tr>\n",
       "  </tbody>\n",
       "</table>\n",
       "</div>"
      ],
      "text/plain": [
       "   Temperature         CPI  Unemployment_Rate  Holiday  Total_Sales    Size  \\\n",
       "0        42.31  211.096358              8.106        0   1643690.90  151315   \n",
       "1        38.51  211.242170              8.106        1   1641957.44  151315   \n",
       "2        39.93  211.289143              8.106        0   1611968.17  151315   \n",
       "3        46.63  211.319643              8.106        0   1409727.59  151315   \n",
       "4        46.50  211.350143              8.106        0          NaN  151315   \n",
       "\n",
       "   weeknumber  Total_MarkDown  Food  Regional  \n",
       "0          17               0     0         0  \n",
       "1          48               0     0         0  \n",
       "2           7               0     0         0  \n",
       "3           8               0     0         0  \n",
       "4          18               0     0         0  "
      ]
     },
     "execution_count": 56,
     "metadata": {},
     "output_type": "execute_result"
    }
   ],
   "source": [
    "# Drop the column 'Type'\n",
    "df.drop('Type',inplace=True,axis=1)\n",
    "df.head()"
   ]
  },
  {
   "cell_type": "markdown",
   "id": "c04ddc6e",
   "metadata": {},
   "source": [
    "### Trianing Data\n",
    "We will seperate the train data and test data, we will predict the missing Total sales value."
   ]
  },
  {
   "cell_type": "code",
   "execution_count": 57,
   "id": "c5ea4bb0",
   "metadata": {},
   "outputs": [],
   "source": [
    "# Training data\n",
    "train_df= df.copy()"
   ]
  },
  {
   "cell_type": "code",
   "execution_count": 58,
   "id": "009a5374",
   "metadata": {},
   "outputs": [
    {
     "data": {
      "text/html": [
       "<div>\n",
       "<style scoped>\n",
       "    .dataframe tbody tr th:only-of-type {\n",
       "        vertical-align: middle;\n",
       "    }\n",
       "\n",
       "    .dataframe tbody tr th {\n",
       "        vertical-align: top;\n",
       "    }\n",
       "\n",
       "    .dataframe thead th {\n",
       "        text-align: right;\n",
       "    }\n",
       "</style>\n",
       "<table border=\"1\" class=\"dataframe\">\n",
       "  <thead>\n",
       "    <tr style=\"text-align: right;\">\n",
       "      <th></th>\n",
       "      <th>Temperature</th>\n",
       "      <th>CPI</th>\n",
       "      <th>Unemployment_Rate</th>\n",
       "      <th>Holiday</th>\n",
       "      <th>Total_Sales</th>\n",
       "      <th>Size</th>\n",
       "      <th>weeknumber</th>\n",
       "      <th>Total_MarkDown</th>\n",
       "      <th>Food</th>\n",
       "      <th>Regional</th>\n",
       "    </tr>\n",
       "  </thead>\n",
       "  <tbody>\n",
       "    <tr>\n",
       "      <th>0</th>\n",
       "      <td>42.31</td>\n",
       "      <td>211.096358</td>\n",
       "      <td>8.106</td>\n",
       "      <td>0</td>\n",
       "      <td>1643690.90</td>\n",
       "      <td>151315</td>\n",
       "      <td>17</td>\n",
       "      <td>0</td>\n",
       "      <td>0</td>\n",
       "      <td>0</td>\n",
       "    </tr>\n",
       "    <tr>\n",
       "      <th>1</th>\n",
       "      <td>38.51</td>\n",
       "      <td>211.242170</td>\n",
       "      <td>8.106</td>\n",
       "      <td>1</td>\n",
       "      <td>1641957.44</td>\n",
       "      <td>151315</td>\n",
       "      <td>48</td>\n",
       "      <td>0</td>\n",
       "      <td>0</td>\n",
       "      <td>0</td>\n",
       "    </tr>\n",
       "    <tr>\n",
       "      <th>2</th>\n",
       "      <td>39.93</td>\n",
       "      <td>211.289143</td>\n",
       "      <td>8.106</td>\n",
       "      <td>0</td>\n",
       "      <td>1611968.17</td>\n",
       "      <td>151315</td>\n",
       "      <td>7</td>\n",
       "      <td>0</td>\n",
       "      <td>0</td>\n",
       "      <td>0</td>\n",
       "    </tr>\n",
       "    <tr>\n",
       "      <th>3</th>\n",
       "      <td>46.63</td>\n",
       "      <td>211.319643</td>\n",
       "      <td>8.106</td>\n",
       "      <td>0</td>\n",
       "      <td>1409727.59</td>\n",
       "      <td>151315</td>\n",
       "      <td>8</td>\n",
       "      <td>0</td>\n",
       "      <td>0</td>\n",
       "      <td>0</td>\n",
       "    </tr>\n",
       "    <tr>\n",
       "      <th>6</th>\n",
       "      <td>54.58</td>\n",
       "      <td>211.215635</td>\n",
       "      <td>8.106</td>\n",
       "      <td>0</td>\n",
       "      <td>1472515.79</td>\n",
       "      <td>151315</td>\n",
       "      <td>11</td>\n",
       "      <td>0</td>\n",
       "      <td>0</td>\n",
       "      <td>0</td>\n",
       "    </tr>\n",
       "  </tbody>\n",
       "</table>\n",
       "</div>"
      ],
      "text/plain": [
       "   Temperature         CPI  Unemployment_Rate  Holiday  Total_Sales    Size  \\\n",
       "0        42.31  211.096358              8.106        0   1643690.90  151315   \n",
       "1        38.51  211.242170              8.106        1   1641957.44  151315   \n",
       "2        39.93  211.289143              8.106        0   1611968.17  151315   \n",
       "3        46.63  211.319643              8.106        0   1409727.59  151315   \n",
       "6        54.58  211.215635              8.106        0   1472515.79  151315   \n",
       "\n",
       "   weeknumber  Total_MarkDown  Food  Regional  \n",
       "0          17               0     0         0  \n",
       "1          48               0     0         0  \n",
       "2           7               0     0         0  \n",
       "3           8               0     0         0  \n",
       "6          11               0     0         0  "
      ]
     },
     "execution_count": 58,
     "metadata": {},
     "output_type": "execute_result"
    }
   ],
   "source": [
    "# Dropping nan values from training data\n",
    "train_df.dropna(inplace=True)\n",
    "train_df.head()"
   ]
  },
  {
   "cell_type": "code",
   "execution_count": 59,
   "id": "166d1df1",
   "metadata": {},
   "outputs": [
    {
     "data": {
      "text/plain": [
       "(3780, 10)"
      ]
     },
     "execution_count": 59,
     "metadata": {},
     "output_type": "execute_result"
    }
   ],
   "source": [
    "train_df.shape"
   ]
  },
  {
   "cell_type": "code",
   "execution_count": 60,
   "id": "076a683a",
   "metadata": {},
   "outputs": [],
   "source": [
    "# Creating Independet and dependet variables\n",
    "X=train_df.drop('Total_Sales',axis=1)\n",
    "y= train_df['Total_Sales']"
   ]
  },
  {
   "cell_type": "code",
   "execution_count": 61,
   "id": "d10d5287",
   "metadata": {},
   "outputs": [
    {
     "data": {
      "text/html": [
       "<div>\n",
       "<style scoped>\n",
       "    .dataframe tbody tr th:only-of-type {\n",
       "        vertical-align: middle;\n",
       "    }\n",
       "\n",
       "    .dataframe tbody tr th {\n",
       "        vertical-align: top;\n",
       "    }\n",
       "\n",
       "    .dataframe thead th {\n",
       "        text-align: right;\n",
       "    }\n",
       "</style>\n",
       "<table border=\"1\" class=\"dataframe\">\n",
       "  <thead>\n",
       "    <tr style=\"text-align: right;\">\n",
       "      <th></th>\n",
       "      <th>Temperature</th>\n",
       "      <th>CPI</th>\n",
       "      <th>Unemployment_Rate</th>\n",
       "      <th>Holiday</th>\n",
       "      <th>Size</th>\n",
       "      <th>weeknumber</th>\n",
       "      <th>Total_MarkDown</th>\n",
       "      <th>Food</th>\n",
       "      <th>Regional</th>\n",
       "    </tr>\n",
       "  </thead>\n",
       "  <tbody>\n",
       "    <tr>\n",
       "      <th>0</th>\n",
       "      <td>42.31</td>\n",
       "      <td>211.096358</td>\n",
       "      <td>8.106</td>\n",
       "      <td>0</td>\n",
       "      <td>151315</td>\n",
       "      <td>17</td>\n",
       "      <td>0</td>\n",
       "      <td>0</td>\n",
       "      <td>0</td>\n",
       "    </tr>\n",
       "    <tr>\n",
       "      <th>1</th>\n",
       "      <td>38.51</td>\n",
       "      <td>211.242170</td>\n",
       "      <td>8.106</td>\n",
       "      <td>1</td>\n",
       "      <td>151315</td>\n",
       "      <td>48</td>\n",
       "      <td>0</td>\n",
       "      <td>0</td>\n",
       "      <td>0</td>\n",
       "    </tr>\n",
       "    <tr>\n",
       "      <th>2</th>\n",
       "      <td>39.93</td>\n",
       "      <td>211.289143</td>\n",
       "      <td>8.106</td>\n",
       "      <td>0</td>\n",
       "      <td>151315</td>\n",
       "      <td>7</td>\n",
       "      <td>0</td>\n",
       "      <td>0</td>\n",
       "      <td>0</td>\n",
       "    </tr>\n",
       "    <tr>\n",
       "      <th>3</th>\n",
       "      <td>46.63</td>\n",
       "      <td>211.319643</td>\n",
       "      <td>8.106</td>\n",
       "      <td>0</td>\n",
       "      <td>151315</td>\n",
       "      <td>8</td>\n",
       "      <td>0</td>\n",
       "      <td>0</td>\n",
       "      <td>0</td>\n",
       "    </tr>\n",
       "    <tr>\n",
       "      <th>6</th>\n",
       "      <td>54.58</td>\n",
       "      <td>211.215635</td>\n",
       "      <td>8.106</td>\n",
       "      <td>0</td>\n",
       "      <td>151315</td>\n",
       "      <td>11</td>\n",
       "      <td>0</td>\n",
       "      <td>0</td>\n",
       "      <td>0</td>\n",
       "    </tr>\n",
       "  </tbody>\n",
       "</table>\n",
       "</div>"
      ],
      "text/plain": [
       "   Temperature         CPI  Unemployment_Rate  Holiday    Size  weeknumber  \\\n",
       "0        42.31  211.096358              8.106        0  151315          17   \n",
       "1        38.51  211.242170              8.106        1  151315          48   \n",
       "2        39.93  211.289143              8.106        0  151315           7   \n",
       "3        46.63  211.319643              8.106        0  151315           8   \n",
       "6        54.58  211.215635              8.106        0  151315          11   \n",
       "\n",
       "   Total_MarkDown  Food  Regional  \n",
       "0               0     0         0  \n",
       "1               0     0         0  \n",
       "2               0     0         0  \n",
       "3               0     0         0  \n",
       "6               0     0         0  "
      ]
     },
     "execution_count": 61,
     "metadata": {},
     "output_type": "execute_result"
    }
   ],
   "source": [
    "X.head()"
   ]
  },
  {
   "cell_type": "markdown",
   "id": "a7f3868f",
   "metadata": {},
   "source": [
    "### feature imporatance"
   ]
  },
  {
   "cell_type": "code",
   "execution_count": 62,
   "id": "fc1a11a9",
   "metadata": {},
   "outputs": [
    {
     "data": {
      "text/plain": [
       "ExtraTreesRegressor()"
      ]
     },
     "execution_count": 62,
     "metadata": {},
     "output_type": "execute_result"
    }
   ],
   "source": [
    "# Important feature using ExtraTreesRegressor\n",
    "\n",
    "from sklearn.ensemble import ExtraTreesRegressor\n",
    "selection = ExtraTreesRegressor()\n",
    "selection.fit(X, y)"
   ]
  },
  {
   "cell_type": "code",
   "execution_count": 63,
   "id": "a484faca",
   "metadata": {},
   "outputs": [
    {
     "data": {
      "image/png": "[encoded data removed]",
      "text/plain": [
       "<Figure size 864x576 with 1 Axes>"
      ]
     },
     "metadata": {},
     "output_type": "display_data"
    }
   ],
   "source": [
    "#plot graph of feature importances for better visualization\n",
    "\n",
    "plt.figure(figsize = (12,8))\n",
    "feat_importances = pd.Series(selection.feature_importances_, index=X.columns)\n",
    "feat_importances.nlargest(8).plot(kind='barh')\n",
    "plt.show()"
   ]
  },
  {
   "cell_type": "markdown",
   "id": "9fd224e2",
   "metadata": {},
   "source": [
    "### Fitting models\n",
    "- Split dataset into train and test set in order to prediction w.r.t X_test\n",
    "- Scaling of features\n",
    "- Import model\n",
    "- Fit the data\n",
    "- Predict w.r.t X_test\n",
    "- In regression check RSME Score\n",
    "- Plot error graph\n",
    "- finally pick the best model and predict the missing sales values"
   ]
  },
  {
   "cell_type": "code",
   "execution_count": 64,
   "id": "920489e2",
   "metadata": {},
   "outputs": [],
   "source": [
    "from sklearn.model_selection import train_test_split\n",
    "X_train,X_test,y_train,y_test=train_test_split(X,y,test_size=0.20,random_state=0)"
   ]
  },
  {
   "cell_type": "code",
   "execution_count": 65,
   "id": "a8e4f821",
   "metadata": {},
   "outputs": [],
   "source": [
    "#### standarisation: We use the Standardscaler from sklearn library\n",
    "from sklearn.preprocessing import MinMaxScaler\n",
    "scaler=MinMaxScaler()\n",
    "###  fit_transform\n",
    "X_train_scaled=scaler.fit_transform(X_train) #alway give parameter in fit_transform\n",
    "X_test_scaled=scaler.transform(X_test)"
   ]
  },
  {
   "cell_type": "code",
   "execution_count": 66,
   "id": "8e6971c9",
   "metadata": {},
   "outputs": [
    {
     "data": {
      "text/plain": [
       "((756, 9), (3024, 9))"
      ]
     },
     "execution_count": 66,
     "metadata": {},
     "output_type": "execute_result"
    }
   ],
   "source": [
    "X_test_scaled.shape,X_train_scaled.shape"
   ]
  },
  {
   "cell_type": "markdown",
   "id": "013afaf4",
   "metadata": {},
   "source": [
    "### Linear Regression Model"
   ]
  },
  {
   "cell_type": "code",
   "execution_count": 67,
   "id": "3eaf08a4",
   "metadata": {},
   "outputs": [
    {
     "data": {
      "text/plain": [
       "LinearRegression()"
      ]
     },
     "execution_count": 67,
     "metadata": {},
     "output_type": "execute_result"
    }
   ],
   "source": [
    "from sklearn.linear_model import LinearRegression\n",
    "reg= LinearRegression()\n",
    "reg.fit(X_train_scaled,y_train)"
   ]
  },
  {
   "cell_type": "code",
   "execution_count": 68,
   "id": "f05f7322",
   "metadata": {},
   "outputs": [],
   "source": [
    "# predicting the model\n",
    "y_pred=reg.predict(X_test_scaled)"
   ]
  },
  {
   "cell_type": "code",
   "execution_count": 69,
   "id": "828b9994",
   "metadata": {},
   "outputs": [
    {
     "name": "stdout",
     "output_type": "stream",
     "text": [
      "0.7220341624925302\n",
      "0.6401731174398315\n"
     ]
    }
   ],
   "source": [
    "#Accuracy\n",
    "print(reg.score(X_test_scaled,y_test))\n",
    "print(reg.score(X_train_scaled,y_train))"
   ]
  },
  {
   "cell_type": "markdown",
   "id": "355d8cb9",
   "metadata": {},
   "source": [
    "Here the Training and testing accuracy not too much differ, it means our model is not overfitting "
   ]
  },
  {
   "cell_type": "code",
   "execution_count": 70,
   "id": "3672dac7",
   "metadata": {},
   "outputs": [
    {
     "name": "stdout",
     "output_type": "stream",
     "text": [
      "Mean Absolute Error: 224891.59628264653\n",
      "Mean Squared Error: 90470646254.37038\n",
      "Root Mean Squared Error: 300783.3875970719\n",
      "Mean Absolute percentage Error: 0.26108598877867656\n"
     ]
    }
   ],
   "source": [
    "from sklearn import metrics\n",
    "\n",
    "print('Mean Absolute Error:', metrics.mean_absolute_error(y_test, y_pred))\n",
    "print('Mean Squared Error:', metrics.mean_squared_error(y_test, y_pred))\n",
    "print('Root Mean Squared Error:', np.sqrt(metrics.mean_squared_error(y_test, y_pred)))\n",
    "print('Mean Absolute percentage Error:',metrics.mean_absolute_percentage_error(y_test, y_pred))"
   ]
  },
  {
   "cell_type": "markdown",
   "id": "93c20729",
   "metadata": {},
   "source": [
    "### Random Forest model"
   ]
  },
  {
   "cell_type": "code",
   "execution_count": 71,
   "id": "0ba80430",
   "metadata": {},
   "outputs": [
    {
     "data": {
      "text/plain": [
       "RandomForestRegressor()"
      ]
     },
     "execution_count": 71,
     "metadata": {},
     "output_type": "execute_result"
    }
   ],
   "source": [
    "from sklearn.ensemble import RandomForestRegressor\n",
    "rf_reg= RandomForestRegressor()\n",
    "rf_reg.fit(X_train,y_train)"
   ]
  },
  {
   "cell_type": "code",
   "execution_count": 72,
   "id": "05b317a4",
   "metadata": {},
   "outputs": [],
   "source": [
    "y_pred= rf_reg.predict(X_test)"
   ]
  },
  {
   "cell_type": "code",
   "execution_count": 73,
   "id": "f34db457",
   "metadata": {},
   "outputs": [
    {
     "name": "stdout",
     "output_type": "stream",
     "text": [
      "0.9654502172540046\n",
      "0.994364271676109\n"
     ]
    }
   ],
   "source": [
    "#Accuracy\n",
    "print(rf_reg.score(X_test,y_test))\n",
    "print(rf_reg.score(X_train,y_train))"
   ]
  },
  {
   "cell_type": "code",
   "execution_count": 100,
   "id": "f85948a7",
   "metadata": {},
   "outputs": [
    {
     "name": "stdout",
     "output_type": "stream",
     "text": [
      "Mean Absolute Error: 58374.21558730162\n",
      "Mean Squared Error: 11245055151.406164\n",
      "Root Mean Squared Error: 106042.7043761435\n",
      "Mean Absolute percentage Error: 0.05707033647141502\n"
     ]
    }
   ],
   "source": [
    "print('Mean Absolute Error:', metrics.mean_absolute_error(y_test, y_pred))\n",
    "print('Mean Squared Error:', metrics.mean_squared_error(y_test, y_pred))\n",
    "print('Root Mean Squared Error:', np.sqrt(metrics.mean_squared_error(y_test, y_pred)))\n",
    "print('Mean Absolute percentage Error:',metrics.mean_absolute_percentage_error(y_test, y_pred))"
   ]
  },
  {
   "cell_type": "markdown",
   "id": "515f74be",
   "metadata": {},
   "source": [
    "By random forest we achieve good accuracy which is 96.6%"
   ]
  },
  {
   "cell_type": "markdown",
   "id": "21c90369",
   "metadata": {},
   "source": [
    "### Stat Model "
   ]
  },
  {
   "cell_type": "code",
   "execution_count": 74,
   "id": "f9ec9f5e",
   "metadata": {},
   "outputs": [
    {
     "data": {
      "text/html": [
       "<table class=\"simpletable\">\n",
       "<caption>OLS Regression Results</caption>\n",
       "<tr>\n",
       "  <th>Dep. Variable:</th>       <td>Total_Sales</td>   <th>  R-squared:         </th> <td>   0.640</td> \n",
       "</tr>\n",
       "<tr>\n",
       "  <th>Model:</th>                   <td>OLS</td>       <th>  Adj. R-squared:    </th> <td>   0.639</td> \n",
       "</tr>\n",
       "<tr>\n",
       "  <th>Method:</th>             <td>Least Squares</td>  <th>  F-statistic:       </th> <td>   595.8</td> \n",
       "</tr>\n",
       "<tr>\n",
       "  <th>Date:</th>             <td>Thu, 28 Oct 2021</td> <th>  Prob (F-statistic):</th>  <td>  0.00</td>  \n",
       "</tr>\n",
       "<tr>\n",
       "  <th>Time:</th>                 <td>18:28:50</td>     <th>  Log-Likelihood:    </th> <td> -42833.</td> \n",
       "</tr>\n",
       "<tr>\n",
       "  <th>No. Observations:</th>      <td>  3024</td>      <th>  AIC:               </th> <td>8.569e+04</td>\n",
       "</tr>\n",
       "<tr>\n",
       "  <th>Df Residuals:</th>          <td>  3014</td>      <th>  BIC:               </th> <td>8.575e+04</td>\n",
       "</tr>\n",
       "<tr>\n",
       "  <th>Df Model:</th>              <td>     9</td>      <th>                     </th>     <td> </td>    \n",
       "</tr>\n",
       "<tr>\n",
       "  <th>Covariance Type:</th>      <td>nonrobust</td>    <th>                     </th>     <td> </td>    \n",
       "</tr>\n",
       "</table>\n",
       "<table class=\"simpletable\">\n",
       "<tr>\n",
       "          <td></td>             <th>coef</th>     <th>std err</th>      <th>t</th>      <th>P>|t|</th>  <th>[0.025</th>    <th>0.975]</th>  \n",
       "</tr>\n",
       "<tr>\n",
       "  <th>const</th>             <td> 2.329e+05</td> <td> 5.93e+04</td> <td>    3.925</td> <td> 0.000</td> <td> 1.17e+05</td> <td> 3.49e+05</td>\n",
       "</tr>\n",
       "<tr>\n",
       "  <th>Temperature</th>       <td>  353.7514</td> <td>  379.580</td> <td>    0.932</td> <td> 0.351</td> <td> -390.511</td> <td> 1098.013</td>\n",
       "</tr>\n",
       "<tr>\n",
       "  <th>CPI</th>               <td>-1276.0361</td> <td>  172.218</td> <td>   -7.409</td> <td> 0.000</td> <td>-1613.713</td> <td> -938.359</td>\n",
       "</tr>\n",
       "<tr>\n",
       "  <th>Unemployment_Rate</th> <td>-2.381e+04</td> <td> 3703.686</td> <td>   -6.430</td> <td> 0.000</td> <td>-3.11e+04</td> <td>-1.66e+04</td>\n",
       "</tr>\n",
       "<tr>\n",
       "  <th>Holiday</th>           <td> 6.603e+04</td> <td> 2.88e+04</td> <td>    2.295</td> <td> 0.022</td> <td> 9618.805</td> <td> 1.22e+05</td>\n",
       "</tr>\n",
       "<tr>\n",
       "  <th>Size</th>              <td>    7.9136</td> <td>    0.165</td> <td>   48.008</td> <td> 0.000</td> <td>    7.590</td> <td>    8.237</td>\n",
       "</tr>\n",
       "<tr>\n",
       "  <th>weeknumber</th>        <td> 3791.2105</td> <td>  509.870</td> <td>    7.436</td> <td> 0.000</td> <td> 2791.482</td> <td> 4790.939</td>\n",
       "</tr>\n",
       "<tr>\n",
       "  <th>Total_MarkDown</th>    <td> 2.279e+04</td> <td> 1.34e+04</td> <td>    1.695</td> <td> 0.090</td> <td>-3573.802</td> <td> 4.92e+04</td>\n",
       "</tr>\n",
       "<tr>\n",
       "  <th>Food</th>              <td> 6.929e+04</td> <td> 1.86e+04</td> <td>    3.734</td> <td> 0.000</td> <td> 3.29e+04</td> <td> 1.06e+05</td>\n",
       "</tr>\n",
       "<tr>\n",
       "  <th>Regional</th>          <td> 1.998e+05</td> <td> 3.02e+04</td> <td>    6.620</td> <td> 0.000</td> <td> 1.41e+05</td> <td> 2.59e+05</td>\n",
       "</tr>\n",
       "</table>\n",
       "<table class=\"simpletable\">\n",
       "<tr>\n",
       "  <th>Omnibus:</th>       <td>930.262</td> <th>  Durbin-Watson:     </th> <td>   2.029</td>\n",
       "</tr>\n",
       "<tr>\n",
       "  <th>Prob(Omnibus):</th> <td> 0.000</td>  <th>  Jarque-Bera (JB):  </th> <td>3943.649</td>\n",
       "</tr>\n",
       "<tr>\n",
       "  <th>Skew:</th>          <td> 1.442</td>  <th>  Prob(JB):          </th> <td>    0.00</td>\n",
       "</tr>\n",
       "<tr>\n",
       "  <th>Kurtosis:</th>      <td> 7.794</td>  <th>  Cond. No.          </th> <td>1.43e+06</td>\n",
       "</tr>\n",
       "</table><br/><br/>Notes:<br/>[1] Standard Errors assume that the covariance matrix of the errors is correctly specified.<br/>[2] The condition number is large, 1.43e+06. This might indicate that there are<br/>strong multicollinearity or other numerical problems."
      ],
      "text/plain": [
       "<class 'statsmodels.iolib.summary.Summary'>\n",
       "\"\"\"\n",
       "                            OLS Regression Results                            \n",
       "==============================================================================\n",
       "Dep. Variable:            Total_Sales   R-squared:                       0.640\n",
       "Model:                            OLS   Adj. R-squared:                  0.639\n",
       "Method:                 Least Squares   F-statistic:                     595.8\n",
       "Date:                Thu, 28 Oct 2021   Prob (F-statistic):               0.00\n",
       "Time:                        18:28:50   Log-Likelihood:                -42833.\n",
       "No. Observations:                3024   AIC:                         8.569e+04\n",
       "Df Residuals:                    3014   BIC:                         8.575e+04\n",
       "Df Model:                           9                                         \n",
       "Covariance Type:            nonrobust                                         \n",
       "=====================================================================================\n",
       "                        coef    std err          t      P>|t|      [0.025      0.975]\n",
       "-------------------------------------------------------------------------------------\n",
       "const              2.329e+05   5.93e+04      3.925      0.000    1.17e+05    3.49e+05\n",
       "Temperature         353.7514    379.580      0.932      0.351    -390.511    1098.013\n",
       "CPI               -1276.0361    172.218     -7.409      0.000   -1613.713    -938.359\n",
       "Unemployment_Rate -2.381e+04   3703.686     -6.430      0.000   -3.11e+04   -1.66e+04\n",
       "Holiday            6.603e+04   2.88e+04      2.295      0.022    9618.805    1.22e+05\n",
       "Size                  7.9136      0.165     48.008      0.000       7.590       8.237\n",
       "weeknumber         3791.2105    509.870      7.436      0.000    2791.482    4790.939\n",
       "Total_MarkDown     2.279e+04   1.34e+04      1.695      0.090   -3573.802    4.92e+04\n",
       "Food               6.929e+04   1.86e+04      3.734      0.000    3.29e+04    1.06e+05\n",
       "Regional           1.998e+05   3.02e+04      6.620      0.000    1.41e+05    2.59e+05\n",
       "==============================================================================\n",
       "Omnibus:                      930.262   Durbin-Watson:                   2.029\n",
       "Prob(Omnibus):                  0.000   Jarque-Bera (JB):             3943.649\n",
       "Skew:                           1.442   Prob(JB):                         0.00\n",
       "Kurtosis:                       7.794   Cond. No.                     1.43e+06\n",
       "==============================================================================\n",
       "\n",
       "Notes:\n",
       "[1] Standard Errors assume that the covariance matrix of the errors is correctly specified.\n",
       "[2] The condition number is large, 1.43e+06. This might indicate that there are\n",
       "strong multicollinearity or other numerical problems.\n",
       "\"\"\""
      ]
     },
     "execution_count": 74,
     "metadata": {},
     "output_type": "execute_result"
    }
   ],
   "source": [
    "# Fitting stats \n",
    "# Adding intercept term to the data\n",
    "x_train = sm.add_constant(X_train)\n",
    "x_test = sm.add_constant(X_test)\n",
    "# training the model and printing the model statistics\n",
    "model_stats = sm.OLS(y_train,x_train).fit()\n",
    "model_stats.summary()"
   ]
  },
  {
   "cell_type": "code",
   "execution_count": 75,
   "id": "a738753e",
   "metadata": {},
   "outputs": [
    {
     "name": "stdout",
     "output_type": "stream",
     "text": [
      "MSE after training the data by stats linear model: 90470646254.37021\n",
      "r2 score after training the data by stats linear model :  0.7220341624925307\n"
     ]
    }
   ],
   "source": [
    "# Performance on test data\n",
    "from sklearn.metrics import mean_squared_error,r2_score\n",
    "y_pred_stat = model_stats.predict(x_test)\n",
    "\n",
    "test_MSE = mean_squared_error(y_test,y_pred_stat )\n",
    "test_r2score = r2_score(y_test,y_pred_stat )\n",
    "print(\"MSE after training the data by stats linear model:\",test_MSE)\n",
    "print(\"r2 score after training the data by stats linear model : \",test_r2score)"
   ]
  },
  {
   "cell_type": "code",
   "execution_count": 76,
   "id": "da35ba10",
   "metadata": {},
   "outputs": [
    {
     "name": "stdout",
     "output_type": "stream",
     "text": [
      "MSE after training the data by stats model: 117668522498.38525\n",
      "r2 score after training the data by stats model :  0.6401731174398315\n"
     ]
    }
   ],
   "source": [
    "# Performance on training data\n",
    "predict_train = model_stats.predict(x_train)\n",
    "\n",
    "train_MSE_ = mean_squared_error(y_train, predict_train)\n",
    "train_r2score= r2_score(y_train, predict_train)\n",
    "print(\"MSE after training the data by stats model:\",train_MSE_)\n",
    "print(\"r2 score after training the data by stats model : \",train_r2score)"
   ]
  },
  {
   "cell_type": "markdown",
   "id": "735d07ce",
   "metadata": {},
   "source": [
    "The accuracy of model in both sklearn model 72% and stat model is almost 64 %"
   ]
  },
  {
   "cell_type": "code",
   "execution_count": 77,
   "id": "cfab1fc6",
   "metadata": {},
   "outputs": [],
   "source": [
    "# Droppig the variable which is not statstically significant \n",
    "x_train_new=X_train.drop('Temperature',axis=1)\n",
    "x_test_new=X_test.drop('Temperature',axis=1)"
   ]
  },
  {
   "cell_type": "code",
   "execution_count": 78,
   "id": "d9b5bd52",
   "metadata": {},
   "outputs": [
    {
     "data": {
      "text/plain": [
       "LinearRegression()"
      ]
     },
     "execution_count": 78,
     "metadata": {},
     "output_type": "execute_result"
    }
   ],
   "source": [
    "# Again fitting the model on new train data\n",
    "reg.fit(x_train_new,y_train)"
   ]
  },
  {
   "cell_type": "code",
   "execution_count": 79,
   "id": "3f73ef85",
   "metadata": {},
   "outputs": [
    {
     "data": {
      "text/html": [
       "<table class=\"simpletable\">\n",
       "<caption>OLS Regression Results</caption>\n",
       "<tr>\n",
       "  <th>Dep. Variable:</th>       <td>Total_Sales</td>   <th>  R-squared:         </th> <td>   0.640</td> \n",
       "</tr>\n",
       "<tr>\n",
       "  <th>Model:</th>                   <td>OLS</td>       <th>  Adj. R-squared:    </th> <td>   0.639</td> \n",
       "</tr>\n",
       "<tr>\n",
       "  <th>Method:</th>             <td>Least Squares</td>  <th>  F-statistic:       </th> <td>   670.2</td> \n",
       "</tr>\n",
       "<tr>\n",
       "  <th>Date:</th>             <td>Thu, 28 Oct 2021</td> <th>  Prob (F-statistic):</th>  <td>  0.00</td>  \n",
       "</tr>\n",
       "<tr>\n",
       "  <th>Time:</th>                 <td>18:28:51</td>     <th>  Log-Likelihood:    </th> <td> -42834.</td> \n",
       "</tr>\n",
       "<tr>\n",
       "  <th>No. Observations:</th>      <td>  3024</td>      <th>  AIC:               </th> <td>8.569e+04</td>\n",
       "</tr>\n",
       "<tr>\n",
       "  <th>Df Residuals:</th>          <td>  3015</td>      <th>  BIC:               </th> <td>8.574e+04</td>\n",
       "</tr>\n",
       "<tr>\n",
       "  <th>Df Model:</th>              <td>     8</td>      <th>                     </th>     <td> </td>    \n",
       "</tr>\n",
       "<tr>\n",
       "  <th>Covariance Type:</th>      <td>nonrobust</td>    <th>                     </th>     <td> </td>    \n",
       "</tr>\n",
       "</table>\n",
       "<table class=\"simpletable\">\n",
       "<tr>\n",
       "          <td></td>             <th>coef</th>     <th>std err</th>      <th>t</th>      <th>P>|t|</th>  <th>[0.025</th>    <th>0.975]</th>  \n",
       "</tr>\n",
       "<tr>\n",
       "  <th>const</th>             <td> 2.426e+05</td> <td> 5.84e+04</td> <td>    4.153</td> <td> 0.000</td> <td> 1.28e+05</td> <td> 3.57e+05</td>\n",
       "</tr>\n",
       "<tr>\n",
       "  <th>CPI</th>               <td>-1240.4188</td> <td>  167.921</td> <td>   -7.387</td> <td> 0.000</td> <td>-1569.669</td> <td> -911.168</td>\n",
       "</tr>\n",
       "<tr>\n",
       "  <th>Unemployment_Rate</th> <td>-2.321e+04</td> <td> 3645.969</td> <td>   -6.365</td> <td> 0.000</td> <td>-3.04e+04</td> <td>-1.61e+04</td>\n",
       "</tr>\n",
       "<tr>\n",
       "  <th>Holiday</th>           <td> 5.567e+04</td> <td> 2.65e+04</td> <td>    2.098</td> <td> 0.036</td> <td> 3640.796</td> <td> 1.08e+05</td>\n",
       "</tr>\n",
       "<tr>\n",
       "  <th>Size</th>              <td>    7.9002</td> <td>    0.164</td> <td>   48.110</td> <td> 0.000</td> <td>    7.578</td> <td>    8.222</td>\n",
       "</tr>\n",
       "<tr>\n",
       "  <th>weeknumber</th>        <td> 3916.7257</td> <td>  491.751</td> <td>    7.965</td> <td> 0.000</td> <td> 2952.525</td> <td> 4880.926</td>\n",
       "</tr>\n",
       "<tr>\n",
       "  <th>Total_MarkDown</th>    <td> 2.334e+04</td> <td> 1.34e+04</td> <td>    1.737</td> <td> 0.082</td> <td>-3001.481</td> <td> 4.97e+04</td>\n",
       "</tr>\n",
       "<tr>\n",
       "  <th>Food</th>              <td>  6.74e+04</td> <td> 1.84e+04</td> <td>    3.654</td> <td> 0.000</td> <td> 3.12e+04</td> <td> 1.04e+05</td>\n",
       "</tr>\n",
       "<tr>\n",
       "  <th>Regional</th>          <td> 1.999e+05</td> <td> 3.02e+04</td> <td>    6.622</td> <td> 0.000</td> <td> 1.41e+05</td> <td> 2.59e+05</td>\n",
       "</tr>\n",
       "</table>\n",
       "<table class=\"simpletable\">\n",
       "<tr>\n",
       "  <th>Omnibus:</th>       <td>920.884</td> <th>  Durbin-Watson:     </th> <td>   2.029</td>\n",
       "</tr>\n",
       "<tr>\n",
       "  <th>Prob(Omnibus):</th> <td> 0.000</td>  <th>  Jarque-Bera (JB):  </th> <td>3844.045</td>\n",
       "</tr>\n",
       "<tr>\n",
       "  <th>Skew:</th>          <td> 1.432</td>  <th>  Prob(JB):          </th> <td>    0.00</td>\n",
       "</tr>\n",
       "<tr>\n",
       "  <th>Kurtosis:</th>      <td> 7.723</td>  <th>  Cond. No.          </th> <td>1.41e+06</td>\n",
       "</tr>\n",
       "</table><br/><br/>Notes:<br/>[1] Standard Errors assume that the covariance matrix of the errors is correctly specified.<br/>[2] The condition number is large, 1.41e+06. This might indicate that there are<br/>strong multicollinearity or other numerical problems."
      ],
      "text/plain": [
       "<class 'statsmodels.iolib.summary.Summary'>\n",
       "\"\"\"\n",
       "                            OLS Regression Results                            \n",
       "==============================================================================\n",
       "Dep. Variable:            Total_Sales   R-squared:                       0.640\n",
       "Model:                            OLS   Adj. R-squared:                  0.639\n",
       "Method:                 Least Squares   F-statistic:                     670.2\n",
       "Date:                Thu, 28 Oct 2021   Prob (F-statistic):               0.00\n",
       "Time:                        18:28:51   Log-Likelihood:                -42834.\n",
       "No. Observations:                3024   AIC:                         8.569e+04\n",
       "Df Residuals:                    3015   BIC:                         8.574e+04\n",
       "Df Model:                           8                                         \n",
       "Covariance Type:            nonrobust                                         \n",
       "=====================================================================================\n",
       "                        coef    std err          t      P>|t|      [0.025      0.975]\n",
       "-------------------------------------------------------------------------------------\n",
       "const              2.426e+05   5.84e+04      4.153      0.000    1.28e+05    3.57e+05\n",
       "CPI               -1240.4188    167.921     -7.387      0.000   -1569.669    -911.168\n",
       "Unemployment_Rate -2.321e+04   3645.969     -6.365      0.000   -3.04e+04   -1.61e+04\n",
       "Holiday            5.567e+04   2.65e+04      2.098      0.036    3640.796    1.08e+05\n",
       "Size                  7.9002      0.164     48.110      0.000       7.578       8.222\n",
       "weeknumber         3916.7257    491.751      7.965      0.000    2952.525    4880.926\n",
       "Total_MarkDown     2.334e+04   1.34e+04      1.737      0.082   -3001.481    4.97e+04\n",
       "Food                6.74e+04   1.84e+04      3.654      0.000    3.12e+04    1.04e+05\n",
       "Regional           1.999e+05   3.02e+04      6.622      0.000    1.41e+05    2.59e+05\n",
       "==============================================================================\n",
       "Omnibus:                      920.884   Durbin-Watson:                   2.029\n",
       "Prob(Omnibus):                  0.000   Jarque-Bera (JB):             3844.045\n",
       "Skew:                           1.432   Prob(JB):                         0.00\n",
       "Kurtosis:                       7.723   Cond. No.                     1.41e+06\n",
       "==============================================================================\n",
       "\n",
       "Notes:\n",
       "[1] Standard Errors assume that the covariance matrix of the errors is correctly specified.\n",
       "[2] The condition number is large, 1.41e+06. This might indicate that there are\n",
       "strong multicollinearity or other numerical problems.\n",
       "\"\"\""
      ]
     },
     "execution_count": 79,
     "metadata": {},
     "output_type": "execute_result"
    }
   ],
   "source": [
    "#Building stat model\n",
    "x_train_stat = sm.add_constant(x_train_new)\n",
    "x_test_stat = sm.add_constant(x_test_new)\n",
    "# training the model and printing the model statistics\n",
    "model_stats = sm.OLS(y_train,x_train_stat).fit()\n",
    "model_stats.summary()"
   ]
  },
  {
   "cell_type": "code",
   "execution_count": 80,
   "id": "987eaa4e",
   "metadata": {},
   "outputs": [
    {
     "name": "stdout",
     "output_type": "stream",
     "text": [
      "The mse of stat model is: 90198341854.87434\n",
      "The r2 score of stat model is: 0.7228708020391303\n"
     ]
    }
   ],
   "source": [
    "# Performance on test data on stat model\n",
    "y_pred_test_stat= model_stats.predict(x_test_stat)\n",
    "\n",
    "print(\"The mse of stat model is:\", mean_squared_error(y_test,y_pred_test_stat))\n",
    "print(\"The r2 score of stat model is:\", r2_score(y_test,y_pred_test_stat))\n"
   ]
  },
  {
   "cell_type": "markdown",
   "id": "4b83348e",
   "metadata": {},
   "source": [
    "### Test data "
   ]
  },
  {
   "cell_type": "code",
   "execution_count": 91,
   "id": "21a2d7fe",
   "metadata": {},
   "outputs": [
    {
     "data": {
      "text/html": [
       "<div>\n",
       "<style scoped>\n",
       "    .dataframe tbody tr th:only-of-type {\n",
       "        vertical-align: middle;\n",
       "    }\n",
       "\n",
       "    .dataframe tbody tr th {\n",
       "        vertical-align: top;\n",
       "    }\n",
       "\n",
       "    .dataframe thead th {\n",
       "        text-align: right;\n",
       "    }\n",
       "</style>\n",
       "<table border=\"1\" class=\"dataframe\">\n",
       "  <thead>\n",
       "    <tr style=\"text-align: right;\">\n",
       "      <th></th>\n",
       "      <th>Temperature</th>\n",
       "      <th>CPI</th>\n",
       "      <th>Unemployment_Rate</th>\n",
       "      <th>Holiday</th>\n",
       "      <th>Total_Sales</th>\n",
       "      <th>Size</th>\n",
       "      <th>weeknumber</th>\n",
       "      <th>Total_MarkDown</th>\n",
       "      <th>Food</th>\n",
       "      <th>Regional</th>\n",
       "    </tr>\n",
       "  </thead>\n",
       "  <tbody>\n",
       "    <tr>\n",
       "      <th>0</th>\n",
       "      <td>46.50</td>\n",
       "      <td>211.350143</td>\n",
       "      <td>8.106</td>\n",
       "      <td>0</td>\n",
       "      <td>NaN</td>\n",
       "      <td>151315</td>\n",
       "      <td>18</td>\n",
       "      <td>0</td>\n",
       "      <td>0</td>\n",
       "      <td>0</td>\n",
       "    </tr>\n",
       "    <tr>\n",
       "      <th>1</th>\n",
       "      <td>57.79</td>\n",
       "      <td>211.380643</td>\n",
       "      <td>8.106</td>\n",
       "      <td>0</td>\n",
       "      <td>NaN</td>\n",
       "      <td>151315</td>\n",
       "      <td>48</td>\n",
       "      <td>0</td>\n",
       "      <td>0</td>\n",
       "      <td>0</td>\n",
       "    </tr>\n",
       "    <tr>\n",
       "      <th>2</th>\n",
       "      <td>62.27</td>\n",
       "      <td>210.820450</td>\n",
       "      <td>7.808</td>\n",
       "      <td>0</td>\n",
       "      <td>NaN</td>\n",
       "      <td>151315</td>\n",
       "      <td>5</td>\n",
       "      <td>0</td>\n",
       "      <td>0</td>\n",
       "      <td>0</td>\n",
       "    </tr>\n",
       "    <tr>\n",
       "      <th>3</th>\n",
       "      <td>65.86</td>\n",
       "      <td>210.622857</td>\n",
       "      <td>7.808</td>\n",
       "      <td>0</td>\n",
       "      <td>NaN</td>\n",
       "      <td>151315</td>\n",
       "      <td>35</td>\n",
       "      <td>0</td>\n",
       "      <td>0</td>\n",
       "      <td>0</td>\n",
       "    </tr>\n",
       "    <tr>\n",
       "      <th>4</th>\n",
       "      <td>72.55</td>\n",
       "      <td>210.339968</td>\n",
       "      <td>7.808</td>\n",
       "      <td>0</td>\n",
       "      <td>NaN</td>\n",
       "      <td>151315</td>\n",
       "      <td>27</td>\n",
       "      <td>0</td>\n",
       "      <td>0</td>\n",
       "      <td>0</td>\n",
       "    </tr>\n",
       "  </tbody>\n",
       "</table>\n",
       "</div>"
      ],
      "text/plain": [
       "   Temperature         CPI  Unemployment_Rate  Holiday  Total_Sales    Size  \\\n",
       "0        46.50  211.350143              8.106        0          NaN  151315   \n",
       "1        57.79  211.380643              8.106        0          NaN  151315   \n",
       "2        62.27  210.820450              7.808        0          NaN  151315   \n",
       "3        65.86  210.622857              7.808        0          NaN  151315   \n",
       "4        72.55  210.339968              7.808        0          NaN  151315   \n",
       "\n",
       "   weeknumber  Total_MarkDown  Food  Regional  \n",
       "0          18               0     0         0  \n",
       "1          48               0     0         0  \n",
       "2           5               0     0         0  \n",
       "3          35               0     0         0  \n",
       "4          27               0     0         0  "
      ]
     },
     "execution_count": 91,
     "metadata": {},
     "output_type": "execute_result"
    }
   ],
   "source": [
    "## Test data to be predicted \n",
    "test_data = df[df['Total_Sales'].isna()].reset_index().drop(columns = ['index'])\n",
    "test_data.head()"
   ]
  },
  {
   "cell_type": "code",
   "execution_count": 92,
   "id": "984f65e6",
   "metadata": {},
   "outputs": [
    {
     "data": {
      "text/plain": [
       "((4408, 10), (3780, 10))"
      ]
     },
     "execution_count": 92,
     "metadata": {},
     "output_type": "execute_result"
    }
   ],
   "source": [
    "test_data.shape, train_df.shape"
   ]
  },
  {
   "cell_type": "code",
   "execution_count": 93,
   "id": "f2d85356",
   "metadata": {},
   "outputs": [],
   "source": [
    "#Dropping the sales column from test data\n",
    "test_data.drop('Total_Sales',inplace=True,axis=1)\n"
   ]
  },
  {
   "cell_type": "code",
   "execution_count": 94,
   "id": "835e978e",
   "metadata": {},
   "outputs": [
    {
     "data": {
      "text/plain": [
       "((4408, 9), (3780, 10))"
      ]
     },
     "execution_count": 94,
     "metadata": {},
     "output_type": "execute_result"
    }
   ],
   "source": [
    "test_data.shape, train_df.shape"
   ]
  },
  {
   "cell_type": "code",
   "execution_count": 95,
   "id": "f1d49c93",
   "metadata": {},
   "outputs": [],
   "source": [
    "#scalling the test data\n",
    "test_data_scaled= scaler.transform(test_data)"
   ]
  },
  {
   "cell_type": "code",
   "execution_count": 96,
   "id": "0d72ca77",
   "metadata": {},
   "outputs": [
    {
     "data": {
      "text/html": [
       "<div>\n",
       "<style scoped>\n",
       "    .dataframe tbody tr th:only-of-type {\n",
       "        vertical-align: middle;\n",
       "    }\n",
       "\n",
       "    .dataframe tbody tr th {\n",
       "        vertical-align: top;\n",
       "    }\n",
       "\n",
       "    .dataframe thead th {\n",
       "        text-align: right;\n",
       "    }\n",
       "</style>\n",
       "<table border=\"1\" class=\"dataframe\">\n",
       "  <thead>\n",
       "    <tr style=\"text-align: right;\">\n",
       "      <th></th>\n",
       "      <th>0</th>\n",
       "      <th>1</th>\n",
       "      <th>2</th>\n",
       "      <th>3</th>\n",
       "      <th>4</th>\n",
       "      <th>5</th>\n",
       "      <th>6</th>\n",
       "      <th>7</th>\n",
       "      <th>8</th>\n",
       "    </tr>\n",
       "  </thead>\n",
       "  <tbody>\n",
       "    <tr>\n",
       "      <th>0</th>\n",
       "      <td>0.475147</td>\n",
       "      <td>0.842989</td>\n",
       "      <td>0.405118</td>\n",
       "      <td>0.0</td>\n",
       "      <td>0.630267</td>\n",
       "      <td>0.306122</td>\n",
       "      <td>0.0</td>\n",
       "      <td>0.0</td>\n",
       "      <td>0.0</td>\n",
       "    </tr>\n",
       "    <tr>\n",
       "      <th>1</th>\n",
       "      <td>0.585616</td>\n",
       "      <td>0.843290</td>\n",
       "      <td>0.405118</td>\n",
       "      <td>0.0</td>\n",
       "      <td>0.630267</td>\n",
       "      <td>0.918367</td>\n",
       "      <td>0.0</td>\n",
       "      <td>0.0</td>\n",
       "      <td>0.0</td>\n",
       "    </tr>\n",
       "    <tr>\n",
       "      <th>2</th>\n",
       "      <td>0.629452</td>\n",
       "      <td>0.837752</td>\n",
       "      <td>0.376557</td>\n",
       "      <td>0.0</td>\n",
       "      <td>0.630267</td>\n",
       "      <td>0.040816</td>\n",
       "      <td>0.0</td>\n",
       "      <td>0.0</td>\n",
       "      <td>0.0</td>\n",
       "    </tr>\n",
       "    <tr>\n",
       "      <th>3</th>\n",
       "      <td>0.664579</td>\n",
       "      <td>0.835799</td>\n",
       "      <td>0.376557</td>\n",
       "      <td>0.0</td>\n",
       "      <td>0.630267</td>\n",
       "      <td>0.653061</td>\n",
       "      <td>0.0</td>\n",
       "      <td>0.0</td>\n",
       "      <td>0.0</td>\n",
       "    </tr>\n",
       "    <tr>\n",
       "      <th>4</th>\n",
       "      <td>0.730039</td>\n",
       "      <td>0.833002</td>\n",
       "      <td>0.376557</td>\n",
       "      <td>0.0</td>\n",
       "      <td>0.630267</td>\n",
       "      <td>0.489796</td>\n",
       "      <td>0.0</td>\n",
       "      <td>0.0</td>\n",
       "      <td>0.0</td>\n",
       "    </tr>\n",
       "  </tbody>\n",
       "</table>\n",
       "</div>"
      ],
      "text/plain": [
       "          0         1         2    3         4         5    6    7    8\n",
       "0  0.475147  0.842989  0.405118  0.0  0.630267  0.306122  0.0  0.0  0.0\n",
       "1  0.585616  0.843290  0.405118  0.0  0.630267  0.918367  0.0  0.0  0.0\n",
       "2  0.629452  0.837752  0.376557  0.0  0.630267  0.040816  0.0  0.0  0.0\n",
       "3  0.664579  0.835799  0.376557  0.0  0.630267  0.653061  0.0  0.0  0.0\n",
       "4  0.730039  0.833002  0.376557  0.0  0.630267  0.489796  0.0  0.0  0.0"
      ]
     },
     "execution_count": 96,
     "metadata": {},
     "output_type": "execute_result"
    }
   ],
   "source": [
    "# converting into data frame\n",
    "test_data_scaled=pd.DataFrame(test_data_scaled)\n",
    "test_data_scaled.head()"
   ]
  },
  {
   "cell_type": "code",
   "execution_count": 97,
   "id": "a9c7e546",
   "metadata": {},
   "outputs": [],
   "source": [
    "# Prediction on test data and saving of results\n",
    "prediction_result = rf_reg.predict(test_data_scaled)\n",
    "test_data_scaled['Total_Sales'] = prediction_result\n",
    "test_data_scaled.to_csv(\"predicted_total_sales.csv\")"
   ]
  },
  {
   "cell_type": "code",
   "execution_count": 98,
   "id": "5b336282",
   "metadata": {},
   "outputs": [],
   "source": [
    "train_df.to_csv('Actucal_data.csv')"
   ]
  },
  {
   "cell_type": "markdown",
   "id": "6c42a4dc",
   "metadata": {},
   "source": [
    "### Conclusion:"
   ]
  },
  {
   "cell_type": "markdown",
   "id": "f80b5d0d",
   "metadata": {},
   "source": [
    "In this notebook, we tried to predict the total sales of sales history dataof store which is located on different location. We have build both sklearn and stat model , from sklearn model we got accuracy of 96.6% and from satat model we achieved 64%. We have done:\n",
    "- Data preprocessing\n",
    "- Univariate/Bi-variate analysis\n",
    "- Feature selection\n",
    "- Feature engineering\n",
    "- Model Building\n",
    "- stat model building\n",
    "- prediction of test data"
   ]
  },
  {
   "cell_type": "code",
   "execution_count": null,
   "id": "94c8fc85",
   "metadata": {},
   "outputs": [],
   "source": []
  }
 ],
 "metadata": {
  "kernelspec": {
   "display_name": "Python 3",
   "language": "python",
   "name": "python3"
  },
  "language_info": {
   "codemirror_mode": {
    "name": "ipython",
    "version": 3
   },
   "file_extension": ".py",
   "mimetype": "text/x-python",
   "name": "python",
   "nbconvert_exporter": "python",
   "pygments_lexer": "ipython3",
   "version": "3.8.8"
  }
 },
 "nbformat": 4,
 "nbformat_minor": 5
}
